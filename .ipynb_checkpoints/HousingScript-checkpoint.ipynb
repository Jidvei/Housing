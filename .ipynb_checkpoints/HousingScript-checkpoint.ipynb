{
 "cells": [
  {
   "cell_type": "code",
   "execution_count": 1,
   "metadata": {
    "collapsed": true
   },
   "outputs": [],
   "source": [
    "import numpy as np\n",
    "import pandas as pd\n",
    "import matplotlib.pyplot as plt\n",
    "import seaborn as sns\n",
    "\n",
    "import warnings\n",
    "warnings.filterwarnings(\"ignore\")\n",
    "%matplotlib inline\n",
    "\n"
   ]
  },
  {
   "cell_type": "code",
   "execution_count": 2,
   "metadata": {
    "collapsed": true
   },
   "outputs": [],
   "source": [
    "train = pd.read_csv(\"train.csv\")\n",
    "test = pd.read_csv(\"test.csv\")\n"
   ]
  },
  {
   "cell_type": "code",
   "execution_count": 3,
   "metadata": {
    "collapsed": true
   },
   "outputs": [],
   "source": [
    "#train.head()\n",
    "#Vanvittig mange variable, allerede før der laves dummies.\n",
    "#PCA er formentlig en god idé her, efter alt feature engineering er færdig\n",
    "#train.RoofStyle.value_counts()\n",
    "#test.RoofStyle.value_counts()\n",
    "#train.info()"
   ]
  },
  {
   "cell_type": "code",
   "execution_count": 4,
   "metadata": {},
   "outputs": [
    {
     "name": "stdout",
     "output_type": "stream",
     "text": [
      "['RL' 'RM' 'C (all)' 'FV' 'RH']\n"
     ]
    }
   ],
   "source": [
    "#test[\"SalePrice\"]\n",
    "#test(['SalePrice'], axis=1, inplace=True)\n",
    "#obj_df = df.select_dtypes(include=['object']).copy()\n",
    "#object_clmns = train.dtypes[train.dtypes != \"int64\"].index\n",
    "#print(object_clmns)\n",
    "#print(train.columns)\n",
    "print(pd.unique(train['MSZoning']))\n"
   ]
  },
  {
   "cell_type": "code",
   "execution_count": 5,
   "metadata": {},
   "outputs": [],
   "source": [
    "#for col in train.columns:\n",
    "#    if train[col].dtype != \"int64\":\n",
    "#        bla = pd.unique(train[col]) \n",
    "#        for blatest in bla:     \n",
    "#            if len(train.loc[train[col] == blatest,col]) < 50:\n",
    "#                train.loc[train[col] == blatest, col] = \"Test\""
   ]
  },
  {
   "cell_type": "code",
   "execution_count": 6,
   "metadata": {
    "collapsed": true
   },
   "outputs": [],
   "source": [
    "#train1 = [train['MSZoning'] == 'RH']\n",
    "#mask = df['position'] >= 20\n",
    "#print(train1)\n"
   ]
  },
  {
   "cell_type": "code",
   "execution_count": null,
   "metadata": {
    "collapsed": true
   },
   "outputs": [],
   "source": []
  },
  {
   "cell_type": "code",
   "execution_count": null,
   "metadata": {
    "collapsed": true
   },
   "outputs": [],
   "source": []
  },
  {
   "cell_type": "code",
   "execution_count": 7,
   "metadata": {
    "collapsed": true
   },
   "outputs": [],
   "source": [
    "#sns.distplot(train['SalePrice'])\n",
    "#Herre skæv fordeling"
   ]
  },
  {
   "cell_type": "code",
   "execution_count": 8,
   "metadata": {
    "collapsed": true
   },
   "outputs": [],
   "source": [
    "#Log transofmration af SalePrice log(1+x)\n",
    "train[\"SalePrice\"] = np.log1p(train[\"SalePrice\"])\n",
    "#sns.distplot(train['SalePrice'])\n",
    "#Meget bedre, så kan linære modeller bruges bedre. "
   ]
  },
  {
   "cell_type": "code",
   "execution_count": 9,
   "metadata": {},
   "outputs": [
    {
     "name": "stdout",
     "output_type": "stream",
     "text": [
      "all_data size is : (2919, 79)\n"
     ]
    }
   ],
   "source": [
    "#Samler train og test set, så vi ikke skal lave rettelser 2 gange. Gemmer \n",
    "trainrækker = train.shape[0]\n",
    "testrækker = test.shape[0]\n",
    "\n",
    "#Save the 'Id' column\n",
    "train_ID = train['Id']\n",
    "test_ID = test['Id']\n",
    "\n",
    "#Now drop the  'Id' colum since it's unnecessary for  the prediction process.\n",
    "train.drop(\"Id\", axis = 1, inplace = True)\n",
    "test.drop(\"Id\", axis = 1, inplace = True)\n",
    "\n",
    "#Fjerner SalePrice så det ikke skal specificeres at den skal ekskluderes i alle operationer/transofmrationer af datasættet\n",
    "y_train = train.SalePrice.values\n",
    "#Resetter index så man kan kalde dem\n",
    "all_data = pd.concat((train, test)).reset_index(drop=True)\n",
    "all_data.drop(['SalePrice'], axis=1, inplace=True)\n",
    "print(\"all_data size is : {}\".format(all_data.shape))"
   ]
  },
  {
   "cell_type": "code",
   "execution_count": 10,
   "metadata": {},
   "outputs": [
    {
     "data": {
      "text/plain": [
       "PoolQC          2909\n",
       "MiscFeature     2814\n",
       "Alley           2721\n",
       "Fence           2348\n",
       "FireplaceQu     1420\n",
       "LotFrontage      486\n",
       "GarageFinish     159\n",
       "GarageQual       159\n",
       "GarageYrBlt      159\n",
       "GarageCond       159\n",
       "GarageType       157\n",
       "BsmtCond          82\n",
       "BsmtExposure      82\n",
       "BsmtQual          81\n",
       "BsmtFinType2      80\n",
       "BsmtFinType1      79\n",
       "MasVnrType        24\n",
       "MasVnrArea        23\n",
       "MSZoning           4\n",
       "BsmtHalfBath       2\n",
       "dtype: int64"
      ]
     },
     "execution_count": 10,
     "metadata": {},
     "output_type": "execute_result"
    }
   ],
   "source": [
    "antal_NA= all_data.isnull().sum()\n",
    "#Der er temmelig mange NA's\n",
    "antal_NA.sort_values(ascending=False)[:20]"
   ]
  },
  {
   "cell_type": "code",
   "execution_count": 11,
   "metadata": {},
   "outputs": [
    {
     "data": {
      "text/plain": [
       "array([nan, 'Ex', 'Fa', 'Gd'], dtype=object)"
      ]
     },
     "execution_count": 11,
     "metadata": {},
     "output_type": "execute_result"
    }
   ],
   "source": [
    "#PoolQC er poolquality\n",
    "#Skyldes det måske at husene bare ikke har en pool og der derfor bliver rapporteret NA?\n",
    "len(all_data)\n",
    "#Det er 2909/2919 variable der er NAN\n",
    "all_data['PoolQC'].describe() #Den er ordinal/kategorisk\n",
    "pd.unique(all_data['PoolQC']) \n",
    "#Går ud fra at Ex er ekstremt godt, Fa er Fantastic og Gd bare er godt. Mærkeligt at der ikke er nogle i dårlig stand?"
   ]
  },
  {
   "cell_type": "code",
   "execution_count": 12,
   "metadata": {},
   "outputs": [
    {
     "data": {
      "text/plain": [
       "array(['Unknown', 'Ex', 'Fa', 'Gd'], dtype=object)"
      ]
     },
     "execution_count": 12,
     "metadata": {},
     "output_type": "execute_result"
    }
   ],
   "source": [
    "all_data[\"PoolQC\"].head()\n",
    "all_data[\"PoolQC\"] = all_data[\"PoolQC\"].fillna(\"Unknown\")\n",
    "pd.unique(all_data['PoolQC']) "
   ]
  },
  {
   "cell_type": "code",
   "execution_count": 13,
   "metadata": {},
   "outputs": [
    {
     "data": {
      "text/plain": [
       "array(['Unknown', 'Shed', 'Gar2', 'Othr', 'TenC'], dtype=object)"
      ]
     },
     "execution_count": 13,
     "metadata": {},
     "output_type": "execute_result"
    }
   ],
   "source": [
    "pd.unique(all_data['MiscFeature']) #Nominel feature\n",
    "all_data[\"MiscFeature\"] = all_data[\"MiscFeature\"].fillna(\"Unknown\")\n",
    "pd.unique(all_data['MiscFeature']) "
   ]
  },
  {
   "cell_type": "code",
   "execution_count": 14,
   "metadata": {},
   "outputs": [
    {
     "data": {
      "text/plain": [
       "array(['Unknown', 'Grvl', 'Pave'], dtype=object)"
      ]
     },
     "execution_count": 14,
     "metadata": {},
     "output_type": "execute_result"
    }
   ],
   "source": [
    "pd.unique(all_data['Alley']) \n",
    "all_data[\"Alley\"] = all_data[\"Alley\"].fillna(\"Unknown\")\n",
    "pd.unique(all_data['Alley']) "
   ]
  },
  {
   "cell_type": "code",
   "execution_count": 15,
   "metadata": {},
   "outputs": [
    {
     "data": {
      "text/plain": [
       "array(['Unknown', 'MnPrv', 'GdWo', 'GdPrv', 'MnWw'], dtype=object)"
      ]
     },
     "execution_count": 15,
     "metadata": {},
     "output_type": "execute_result"
    }
   ],
   "source": [
    "pd.unique(all_data['Fence']) \n",
    "all_data[\"Fence\"] = all_data[\"Fence\"].fillna(\"Unknown\")\n",
    "pd.unique(all_data['Fence']) "
   ]
  },
  {
   "cell_type": "code",
   "execution_count": 16,
   "metadata": {},
   "outputs": [
    {
     "data": {
      "text/plain": [
       "array(['Unknown', 'TA', 'Gd', 'Fa', 'Ex', 'Po'], dtype=object)"
      ]
     },
     "execution_count": 16,
     "metadata": {},
     "output_type": "execute_result"
    }
   ],
   "source": [
    "pd.unique(all_data['FireplaceQu'])\n",
    "all_data[\"FireplaceQu\"] = all_data[\"FireplaceQu\"].fillna(\"Unknown\")\n",
    "pd.unique(all_data['FireplaceQu']) "
   ]
  },
  {
   "cell_type": "code",
   "execution_count": 17,
   "metadata": {
    "collapsed": true
   },
   "outputs": [],
   "source": [
    "#pd.unique(all_data['LotFrontage'])#integers, enten med median eller mean?\n",
    "#Grupperer dem efter neighborhood\n",
    "list(all_data.groupby(\"Neighborhood\")[\"LotFrontage\"])\n",
    "all_data[\"LotFrontage\"] = all_data.groupby(\"Neighborhood\")[\"LotFrontage\"].transform(lambda x: x.fillna(x.median()))"
   ]
  },
  {
   "cell_type": "code",
   "execution_count": 18,
   "metadata": {},
   "outputs": [
    {
     "data": {
      "text/plain": [
       "array([ 60,  20,  70,  50, 190,  45,  90, 120,  30,  85,  80, 160,  75,\n",
       "       180,  40, 150], dtype=int64)"
      ]
     },
     "execution_count": 18,
     "metadata": {},
     "output_type": "execute_result"
    }
   ],
   "source": [
    "#Samler kategoriske/nominale features og erstatter i et loop istedet\n",
    "#GarageQual GarageCond GarageFinish GarageType BsmtQual BsmtExposure BsmtCond BsmtFinType2 BsmtFinType1 MasVnrType MSZoning\n",
    "pd.unique(all_data['MSSubClass']) "
   ]
  },
  {
   "cell_type": "code",
   "execution_count": 19,
   "metadata": {},
   "outputs": [
    {
     "data": {
      "text/plain": [
       "array(['VinylSd', 'MetalSd', 'Wd Shng', 'HdBoard', 'Plywood', 'Wd Sdng',\n",
       "       'CmentBd', 'BrkFace', 'Stucco', 'AsbShng', 'Brk Cmn', 'ImStucc',\n",
       "       'AsphShn', 'Stone', 'Other', 'CBlock', nan], dtype=object)"
      ]
     },
     "execution_count": 19,
     "metadata": {},
     "output_type": "execute_result"
    }
   ],
   "source": [
    "for col in ('GarageType', 'GarageFinish', 'GarageQual', 'GarageCond', 'BsmtQual', 'SaleType',\n",
    "            'BsmtExposure', 'BsmtCond','BsmtFinType2', 'BsmtFinType1', 'MasVnrType','MSZoning'):\n",
    "    all_data[col] = all_data[col].fillna('Unknown')\n",
    "pd.unique(all_data['Exterior2nd'])"
   ]
  },
  {
   "cell_type": "code",
   "execution_count": 20,
   "metadata": {
    "collapsed": true
   },
   "outputs": [],
   "source": [
    "for col in ('GarageYrBlt', 'GarageArea', 'GarageCars', 'MasVnrArea', 'BsmtHalfBath', 'BsmtFullBath', 'BsmtFinSF1',\n",
    "           'BsmtFinSF1', 'TotalBsmtSF', 'BsmtUnfSF', 'BsmtFinSF2'):\n",
    "    all_data[col] = all_data[col].fillna(0)"
   ]
  },
  {
   "cell_type": "code",
   "execution_count": 21,
   "metadata": {
    "collapsed": true
   },
   "outputs": [],
   "source": [
    "all_data = all_data.drop(['Utilities'], axis=1)"
   ]
  },
  {
   "cell_type": "code",
   "execution_count": 22,
   "metadata": {
    "collapsed": true
   },
   "outputs": [],
   "source": [
    "all_data[\"Functional\"] = all_data[\"Functional\"].fillna(\"Typ\")\n",
    "all_data['Electrical'] = all_data['Electrical'].fillna(all_data['Electrical'].mode()[0])\n",
    "all_data['KitchenQual'] = all_data['KitchenQual'].fillna(all_data['KitchenQual'].mode()[0])\n",
    "all_data['Exterior1st'] = all_data['Exterior1st'].fillna(all_data['Exterior1st'].mode()[0])\n",
    "all_data['Exterior2nd'] = all_data['Exterior2nd'].fillna(all_data['Exterior2nd'].mode()[0])\n",
    "all_data['SaleType'] = all_data['SaleType'].fillna(all_data['SaleType'].mode()[0])"
   ]
  },
  {
   "cell_type": "code",
   "execution_count": 23,
   "metadata": {},
   "outputs": [
    {
     "data": {
      "text/plain": [
       "YrSold         0\n",
       "Foundation     0\n",
       "ExterCond      0\n",
       "ExterQual      0\n",
       "Exterior1st    0\n",
       "dtype: int64"
      ]
     },
     "execution_count": 23,
     "metadata": {},
     "output_type": "execute_result"
    }
   ],
   "source": [
    "antal_NA2= all_data.isnull().sum()\n",
    "#Ingen NA's tilbage, yay!!!\n",
    "antal_NA2.sort_values(ascending=False)[:5]"
   ]
  },
  {
   "cell_type": "code",
   "execution_count": 24,
   "metadata": {
    "collapsed": true
   },
   "outputs": [],
   "source": [
    "#for col in all_data.columns:\n",
    "#    if all_data[col].dtype != \"int64\":\n",
    "#        bla = pd.unique(all_data[col]) \n",
    "#        for blatest in bla:     \n",
    "#            if len(all_data.loc[all_data[col] == blatest, col]) < 50:\n",
    "#                all_data.loc[all_data[col] == blatest, col] = \"Test\""
   ]
  },
  {
   "cell_type": "code",
   "execution_count": 25,
   "metadata": {},
   "outputs": [
    {
     "name": "stdout",
     "output_type": "stream",
     "text": [
      "Shape all_data: (2919, 78)\n"
     ]
    }
   ],
   "source": [
    "from sklearn.preprocessing import LabelEncoder\n",
    "cols = ('FireplaceQu', 'BsmtQual', 'BsmtCond', 'GarageQual', 'GarageCond', \n",
    "        'ExterQual', 'ExterCond','HeatingQC', 'PoolQC', 'KitchenQual', 'BsmtFinType1', \n",
    "        'BsmtFinType2', 'Functional', 'Fence', 'BsmtExposure', 'GarageFinish', 'LandSlope',\n",
    "        'LotShape', 'PavedDrive', 'Street', 'Alley', 'CentralAir', 'MSSubClass', 'OverallCond', \n",
    "        'YrSold', 'MoSold')\n",
    "#Looper over kolonner og konverterer kategoriske variable\n",
    "for c in cols:\n",
    "    lbl = LabelEncoder() \n",
    "    lbl.fit(list(all_data[c].values)) \n",
    "    all_data[c] = lbl.transform(list(all_data[c].values))\n",
    "\n",
    "# shape        \n",
    "print('Shape all_data: {}'.format(all_data.shape))"
   ]
  },
  {
   "cell_type": "code",
   "execution_count": 26,
   "metadata": {},
   "outputs": [
    {
     "name": "stdout",
     "output_type": "stream",
     "text": [
      "(2919, 223)\n"
     ]
    },
    {
     "data": {
      "text/plain": [
       "array([5, 4, 2, 1, 0, 3], dtype=int64)"
      ]
     },
     "execution_count": 26,
     "metadata": {},
     "output_type": "execute_result"
    }
   ],
   "source": [
    "all_data = pd.get_dummies(all_data)\n",
    "print(all_data.shape)\n",
    "pd.unique(all_data['FireplaceQu'])"
   ]
  },
  {
   "cell_type": "code",
   "execution_count": null,
   "metadata": {
    "collapsed": true
   },
   "outputs": [],
   "source": []
  },
  {
   "cell_type": "code",
   "execution_count": 27,
   "metadata": {
    "collapsed": true
   },
   "outputs": [],
   "source": [
    "train = all_data[:trainrækker]\n",
    "test = all_data[trainrækker:]"
   ]
  },
  {
   "cell_type": "code",
   "execution_count": 28,
   "metadata": {},
   "outputs": [
    {
     "data": {
      "text/plain": [
       "Index(['1stFlrSF', '2ndFlrSF', '3SsnPorch', 'Alley', 'BedroomAbvGr',\n",
       "       'BsmtCond', 'BsmtExposure', 'BsmtFinSF1', 'BsmtFinSF2', 'BsmtFinType1',\n",
       "       ...\n",
       "       'SaleType_COD', 'SaleType_CWD', 'SaleType_Con', 'SaleType_ConLD',\n",
       "       'SaleType_ConLI', 'SaleType_ConLw', 'SaleType_New', 'SaleType_Oth',\n",
       "       'SaleType_Unknown', 'SaleType_WD'],\n",
       "      dtype='object', length=223)"
      ]
     },
     "execution_count": 28,
     "metadata": {},
     "output_type": "execute_result"
    }
   ],
   "source": [
    "train.columns\n",
    "#test.columns\n",
    "#Hvorfor helvede har test og train lige mange kolonner??\n",
    "#For fanden, husk at fjerne SalePrice ordentligt!!!!"
   ]
  },
  {
   "cell_type": "code",
   "execution_count": 29,
   "metadata": {},
   "outputs": [
    {
     "name": "stderr",
     "output_type": "stream",
     "text": [
      "C:\\Users\\Alexander\\Anaconda3\\lib\\site-packages\\sklearn\\cross_validation.py:41: DeprecationWarning: This module was deprecated in version 0.18 in favor of the model_selection module into which all the refactored classes and functions are moved. Also note that the interface of the new CV iterators are different from that of this module. This module will be removed in 0.20.\n",
      "  \"This module will be removed in 0.20.\", DeprecationWarning)\n"
     ]
    }
   ],
   "source": [
    "#Modeller der evt. kan testes:\n",
    "#OLS, Lasso, Ridge, Gradient Boosting, RandomForest, LightGBM, XGBoost, KNN med forskellige antal k'er?, \n",
    "#Måske kunne det være ret sejt at stacke det ind i et NN\n",
    "\n",
    "from sklearn.model_selection import KFold, cross_val_score, train_test_split\n",
    "from sklearn.metrics import mean_squared_error\n",
    "import xgboost as xgb\n",
    "import lightgbm as lgb"
   ]
  },
  {
   "cell_type": "code",
   "execution_count": 31,
   "metadata": {
    "collapsed": true
   },
   "outputs": [],
   "source": [
    "#Evalueringen er rmsle, så eval metric'en der skal bruges skal være rmse\n",
    "#Måske er 5 folds alt for meget? Virkelig et lille datasæt trods alt\n",
    "n_folds = 5\n",
    "#Bruger 5kfolds til at træne modellen og give rmse tilbage\n",
    "def rmse_cv(model):\n",
    "    kf = KFold(n_folds, shuffle=True, random_state=42).get_n_splits(kfoldtrain.values)\n",
    "    rmse= np.sqrt(-cross_val_score(model, kfoldtrain.values, y_train, scoring=\"neg_mean_squared_error\", cv = kf))\n",
    "    return(rmse)\n",
    "\n",
    "kfoldtrain = train\n",
    "#Skal først bruges når der skal stackes, parameterne skal findes først. Evt. genbrug randomsearch du lavede til taxa challenge"
   ]
  },
  {
   "cell_type": "code",
   "execution_count": 32,
   "metadata": {
    "collapsed": true
   },
   "outputs": [],
   "source": [
    "train[\"SalePrice\"] = y_train\n",
    "Train, Test = train_test_split(train, test_size = 0.3)\n",
    "X_train = Train.drop(['SalePrice'], axis=1)\n",
    "Y_train = Train[\"SalePrice\"]\n",
    "X_test = Test.drop(['SalePrice'], axis=1)\n",
    "Y_test = Test[\"SalePrice\"]\n",
    "\n",
    "Y_test = Y_test.reset_index().drop('index',axis = 1)\n",
    "Y_train = Y_train.reset_index().drop('index',axis = 1)"
   ]
  },
  {
   "cell_type": "code",
   "execution_count": null,
   "metadata": {},
   "outputs": [
    {
     "name": "stdout",
     "output_type": "stream",
     "text": [
      "1\n",
      "{'min_child_weight': 21, 'eta': 0.01, 'colsample_bytree': 0.5, 'max_depth': 13, 'subsample': 0.85, 'lambda': 1.7, 'nthread': -1, 'booster': 'gbtree', 'eval_metric': 'rmse', 'silent': 1, 'objective': 'reg:linear', 'seed': 42}\n",
      "[0]\ttrain-rmse:11.4154\tvalid-rmse:11.4185\n",
      "Multiple eval metrics have been passed: 'valid-rmse' will be used for early stopping.\n",
      "\n",
      "Will train until valid-rmse hasn't improved in 150 rounds.\n",
      "[100]\ttrain-rmse:4.20083\tvalid-rmse:4.20317\n",
      "[200]\ttrain-rmse:1.55986\tvalid-rmse:1.56302\n",
      "[300]\ttrain-rmse:0.595625\tvalid-rmse:0.601334\n",
      "[400]\ttrain-rmse:0.250922\tvalid-rmse:0.264354\n",
      "[500]\ttrain-rmse:0.135952\tvalid-rmse:0.165109\n",
      "[600]\ttrain-rmse:0.099317\tvalid-rmse:0.142897\n",
      "[700]\ttrain-rmse:0.08507\tvalid-rmse:0.137654\n",
      "[800]\ttrain-rmse:0.076491\tvalid-rmse:0.135638\n",
      "[900]\ttrain-rmse:0.070154\tvalid-rmse:0.134706\n",
      "[1000]\ttrain-rmse:0.064851\tvalid-rmse:0.133756\n",
      "[1100]\ttrain-rmse:0.060371\tvalid-rmse:0.133225\n",
      "[1200]\ttrain-rmse:0.056491\tvalid-rmse:0.132517\n",
      "[1300]\ttrain-rmse:0.052955\tvalid-rmse:0.13223\n",
      "[1400]\ttrain-rmse:0.049785\tvalid-rmse:0.131793\n",
      "[1500]\ttrain-rmse:0.046924\tvalid-rmse:0.131602\n",
      "[1600]\ttrain-rmse:0.044324\tvalid-rmse:0.131555\n",
      "[1700]\ttrain-rmse:0.04206\tvalid-rmse:0.131384\n",
      "[1800]\ttrain-rmse:0.040034\tvalid-rmse:0.131213\n",
      "[1900]\ttrain-rmse:0.038079\tvalid-rmse:0.13103\n",
      "[2000]\ttrain-rmse:0.036185\tvalid-rmse:0.130931\n",
      "[2100]\ttrain-rmse:0.034412\tvalid-rmse:0.130835\n",
      "[2200]\ttrain-rmse:0.032815\tvalid-rmse:0.130701\n"
     ]
    }
   ],
   "source": [
    "#### Iterationer\n",
    "#Træningssæt, validation sæt og test sæt - Lightgbm skal også have deres egne. Alternativt kan vi lade være med at \n",
    "#bruge deres specialdesignet matricer men tror ikke det kan undgås til selve tuningen, når at watchlist skal laves?\n",
    "dtrain = xgb.DMatrix(X_train, label=Y_train)\n",
    "dvalid = xgb.DMatrix(X_test, label=Y_test)\n",
    "#dtest = xgb.DMatrix(test)\n",
    "watchlist = [(dtrain, 'train'), (dvalid, 'valid')]\n",
    "\n",
    "\n",
    "#VI SKAL EKSPERIMENTERE MED BOOST TYPE OGSÅ!!!!!\n",
    "#gboost has access to three different boosting methods:\n",
    "#- \"gblinear\" (Generalized Linear Model) which is using Shotgun (Parallel Stochastic Gradient Descent);\n",
    "#- \"gbtree\" (Gradient Boosted Trees) which is the default boosting method using Decision Trees and Stochastic Gradient Descent;\n",
    "#- \"dart\" (Dropout Additive Regression Trees) which is a method employing the Dropout method from Neural Networks.\n",
    "#Defaults to \"gbtree\".\n",
    "Iter = 100\n",
    "best_score_true = 1\n",
    "\n",
    "xgb_pars = []\n",
    "for MCW in [21]:\n",
    "    #for ETA in [0.05, 0.1, 0.15]:\n",
    "        for CS in [0.5]:\n",
    "            for MD in [13]:\n",
    "                for SS in [0.85]:\n",
    "                    for LAMBDA in [1.7]:\n",
    "                        xgb_pars.append({'min_child_weight': MCW, 'eta': 0.01, \n",
    "                                         'colsample_bytree':CS, 'max_depth': MD,\n",
    "                                         'subsample': SS, 'lambda': LAMBDA, \n",
    "                                         'nthread': -1, 'booster' : 'gbtree', 'eval_metric': 'rmse',\n",
    "                                         'silent': 1, 'objective': 'reg:linear', 'seed':42})\n",
    "#i = 0\n",
    "print(len(xgb_pars))\n",
    "for i in range(len(xgb_pars)):\n",
    "#while i < Iter:\n",
    "   # xgb_par = np.random.choice(xgb_pars, replace = False)\n",
    "    xgb_par = xgb_pars[i]\n",
    "    print(xgb_par)\n",
    "    model = xgb.train(xgb_par, dtrain, 3000, watchlist, early_stopping_rounds=150,\n",
    "                      maximize=False, verbose_eval=100)\n",
    "   # i+= 1\n",
    "    if model.best_score < best_score_true:\n",
    "        best_score_true = model.best_score\n",
    "        xgb_par_best = xgb_par\n",
    "\n",
    "    print('Modeling RMSLE %.5f\\n' % model.best_score)"
   ]
  },
  {
   "cell_type": "code",
   "execution_count": 33,
   "metadata": {},
   "outputs": [
    {
     "ename": "NameError",
     "evalue": "name 'best_score_true' is not defined",
     "output_type": "error",
     "traceback": [
      "\u001b[1;31m---------------------------------------------------------------------------\u001b[0m",
      "\u001b[1;31mNameError\u001b[0m                                 Traceback (most recent call last)",
      "\u001b[1;32m<ipython-input-33-7b8f32ba48f9>\u001b[0m in \u001b[0;36m<module>\u001b[1;34m()\u001b[0m\n\u001b[1;32m----> 1\u001b[1;33m \u001b[0mprint\u001b[0m\u001b[1;33m(\u001b[0m\u001b[1;34m'Modeling RMSLE %.5f\\n'\u001b[0m \u001b[1;33m%\u001b[0m \u001b[0mbest_score_true\u001b[0m\u001b[1;33m,\u001b[0m \u001b[0mxgb_par_best\u001b[0m\u001b[1;33m)\u001b[0m\u001b[1;33m\u001b[0m\u001b[0m\n\u001b[0m\u001b[0;32m      2\u001b[0m \u001b[1;33m\u001b[0m\u001b[0m\n\u001b[0;32m      3\u001b[0m \u001b[1;31m#Modeling RMSLE 0.11743\u001b[0m\u001b[1;33m\u001b[0m\u001b[1;33m\u001b[0m\u001b[0m\n\u001b[0;32m      4\u001b[0m \u001b[1;31m# {'min_child_weight': 20, 'eta': 0.2, 'colsample_bytree': 0.5, 'max_depth': 12,\u001b[0m\u001b[1;33m\u001b[0m\u001b[1;33m\u001b[0m\u001b[0m\n\u001b[0;32m      5\u001b[0m \u001b[1;31m#'subsample': 0.9, 'lambda': 2, 'nthread': -1, 'booster': 'gbtree', 'eval_metric': 'rmse',\u001b[0m\u001b[1;33m\u001b[0m\u001b[1;33m\u001b[0m\u001b[0m\n",
      "\u001b[1;31mNameError\u001b[0m: name 'best_score_true' is not defined"
     ]
    }
   ],
   "source": [
    "print('Modeling RMSLE %.5f\\n' % best_score_true, xgb_par_best)\n",
    "\n",
    "#Modeling RMSLE 0.11743\n",
    "# {'min_child_weight': 20, 'eta': 0.2, 'colsample_bytree': 0.5, 'max_depth': 12, \n",
    "#'subsample': 0.9, 'lambda': 2, 'nthread': -1, 'booster': 'gbtree', 'eval_metric': 'rmse',\n",
    "#'silent': 1, 'objective': 'reg:linear', 'seed': 42}\n",
    "\n",
    "#Modeling RMSLE 0.09561\n",
    "# {'min_child_weight': 22, 'eta': 0.2, 'colsample_bytree': 0.5, 'max_depth': 12, \n",
    "#  'subsample': 0.85, 'lambda': 1.8, 'nthread': -1, 'booster': 'gbtree', 'eval_metric': 'rmse',\n",
    "#  'silent': 1, 'objective': 'reg:linear', 'seed': 42}\n",
    "\n",
    "#Ser godt ud til vi kan teste højere lambda og max depth faktisk!"
   ]
  },
  {
   "cell_type": "code",
   "execution_count": 34,
   "metadata": {
    "collapsed": true
   },
   "outputs": [],
   "source": [
    "testmatrix = xgb.DMatrix(test)"
   ]
  },
  {
   "cell_type": "code",
   "execution_count": 35,
   "metadata": {},
   "outputs": [],
   "source": [
    "train[\"SalePrice\"] = y_train\n",
    "#x2_train['SalePrice']=y_train"
   ]
  },
  {
   "cell_type": "code",
   "execution_count": null,
   "metadata": {
    "collapsed": true
   },
   "outputs": [],
   "source": []
  },
  {
   "cell_type": "code",
   "execution_count": 36,
   "metadata": {},
   "outputs": [
    {
     "ename": "NameError",
     "evalue": "name 'xgb_par_best' is not defined",
     "output_type": "error",
     "traceback": [
      "\u001b[1;31m---------------------------------------------------------------------------\u001b[0m",
      "\u001b[1;31mNameError\u001b[0m                                 Traceback (most recent call last)",
      "\u001b[1;32m<ipython-input-36-f283f3d20081>\u001b[0m in \u001b[0;36m<module>\u001b[1;34m()\u001b[0m\n\u001b[0;32m     15\u001b[0m     \u001b[0mwatchlist\u001b[0m \u001b[1;33m=\u001b[0m \u001b[1;33m[\u001b[0m\u001b[1;33m(\u001b[0m\u001b[0mdtrain\u001b[0m\u001b[1;33m,\u001b[0m \u001b[1;34m'train'\u001b[0m\u001b[1;33m)\u001b[0m\u001b[1;33m,\u001b[0m \u001b[1;33m(\u001b[0m\u001b[0mdvalid\u001b[0m\u001b[1;33m,\u001b[0m \u001b[1;34m'valid'\u001b[0m\u001b[1;33m)\u001b[0m\u001b[1;33m]\u001b[0m\u001b[1;33m\u001b[0m\u001b[0m\n\u001b[0;32m     16\u001b[0m \u001b[1;33m\u001b[0m\u001b[0m\n\u001b[1;32m---> 17\u001b[1;33m     xgb_model = xgb.train(xgb_par_best, dtrain, 20000, watchlist, early_stopping_rounds=150,\n\u001b[0m\u001b[0;32m     18\u001b[0m                       maximize=False, verbose_eval=500)\n\u001b[0;32m     19\u001b[0m     \u001b[0mpreds\u001b[0m \u001b[1;33m=\u001b[0m \u001b[0mxgb_model\u001b[0m\u001b[1;33m.\u001b[0m\u001b[0mpredict\u001b[0m\u001b[1;33m(\u001b[0m\u001b[0mtestmatrix\u001b[0m\u001b[1;33m)\u001b[0m\u001b[1;33m\u001b[0m\u001b[0m\n",
      "\u001b[1;31mNameError\u001b[0m: name 'xgb_par_best' is not defined"
     ]
    }
   ],
   "source": [
    "n_iters = 5\n",
    "xgb_preds = []\n",
    "for i in range(n_iters): \n",
    "    Train, Test = train_test_split(train, test_size = 0.2, random_state = i)\n",
    "    X_train = Train.drop(['SalePrice'], axis=1)\n",
    "    Y_train = Train[\"SalePrice\"]\n",
    "    X_test = Test.drop(['SalePrice'], axis=1)\n",
    "    Y_test = Test[\"SalePrice\"]\n",
    "\n",
    "    Y_test = Y_test.reset_index().drop('index',axis = 1)\n",
    "    Y_train = Y_train.reset_index().drop('index',axis = 1)\n",
    "    \n",
    "    dtrain = xgb.DMatrix(X_train, label=Y_train)\n",
    "    dvalid = xgb.DMatrix(X_test, label=Y_test)\n",
    "    watchlist = [(dtrain, 'train'), (dvalid, 'valid')]\n",
    "\n",
    "    xgb_model = xgb.train(xgb_par_best, dtrain, 20000, watchlist, early_stopping_rounds=150,\n",
    "                      maximize=False, verbose_eval=500)\n",
    "    preds = xgb_model.predict(testmatrix)\n",
    "    preds = np.exp(preds) - 1\n",
    "    xgb_preds.append(preds)"
   ]
  },
  {
   "cell_type": "code",
   "execution_count": 304,
   "metadata": {},
   "outputs": [
    {
     "data": {
      "text/plain": [
       "array([ 116241.5390625,  158313.625    ,  182957.265625 , ...,\n",
       "        156765.640625 ,  121422.671875 ,  215856.421875 ], dtype=float32)"
      ]
     },
     "execution_count": 304,
     "metadata": {},
     "output_type": "execute_result"
    }
   ],
   "source": [
    "np.mean(xgb_preds, axis=0)"
   ]
  },
  {
   "cell_type": "code",
   "execution_count": 305,
   "metadata": {
    "collapsed": true
   },
   "outputs": [],
   "source": [
    "predsfinal =[]"
   ]
  },
  {
   "cell_type": "code",
   "execution_count": 306,
   "metadata": {
    "collapsed": true
   },
   "outputs": [],
   "source": [
    "predsfinal = np.mean(xgb_preds, axis=0)"
   ]
  },
  {
   "cell_type": "code",
   "execution_count": 307,
   "metadata": {},
   "outputs": [
    {
     "data": {
      "text/plain": [
       "array([ 116241.5390625,  158313.625    ,  182957.265625 , ...,\n",
       "        156765.640625 ,  121422.671875 ,  215856.421875 ], dtype=float32)"
      ]
     },
     "execution_count": 307,
     "metadata": {},
     "output_type": "execute_result"
    }
   ],
   "source": [
    "predsfinal"
   ]
  },
  {
   "cell_type": "code",
   "execution_count": 308,
   "metadata": {
    "collapsed": true
   },
   "outputs": [],
   "source": [
    "predictions = pd.DataFrame(list(zip(predsfinal)),\n",
    "              columns=['xgbpreds'])"
   ]
  },
  {
   "cell_type": "code",
   "execution_count": null,
   "metadata": {
    "collapsed": true
   },
   "outputs": [],
   "source": []
  },
  {
   "cell_type": "code",
   "execution_count": 319,
   "metadata": {},
   "outputs": [
    {
     "data": {
      "text/html": [
       "<div>\n",
       "<style>\n",
       "    .dataframe thead tr:only-child th {\n",
       "        text-align: right;\n",
       "    }\n",
       "\n",
       "    .dataframe thead th {\n",
       "        text-align: left;\n",
       "    }\n",
       "\n",
       "    .dataframe tbody tr th {\n",
       "        vertical-align: top;\n",
       "    }\n",
       "</style>\n",
       "<table border=\"1\" class=\"dataframe\">\n",
       "  <thead>\n",
       "    <tr style=\"text-align: right;\">\n",
       "      <th></th>\n",
       "      <th>xgbpreds</th>\n",
       "      <th>lgbpreds</th>\n",
       "    </tr>\n",
       "  </thead>\n",
       "  <tbody>\n",
       "    <tr>\n",
       "      <th>0</th>\n",
       "      <td>116241.539062</td>\n",
       "      <td>113238.725697</td>\n",
       "    </tr>\n",
       "    <tr>\n",
       "      <th>1</th>\n",
       "      <td>158313.625000</td>\n",
       "      <td>155458.296360</td>\n",
       "    </tr>\n",
       "    <tr>\n",
       "      <th>2</th>\n",
       "      <td>182957.265625</td>\n",
       "      <td>184848.531624</td>\n",
       "    </tr>\n",
       "    <tr>\n",
       "      <th>3</th>\n",
       "      <td>188232.843750</td>\n",
       "      <td>188103.937505</td>\n",
       "    </tr>\n",
       "    <tr>\n",
       "      <th>4</th>\n",
       "      <td>187101.953125</td>\n",
       "      <td>183227.873951</td>\n",
       "    </tr>\n",
       "  </tbody>\n",
       "</table>\n",
       "</div>"
      ],
      "text/plain": [
       "        xgbpreds       lgbpreds\n",
       "0  116241.539062  113238.725697\n",
       "1  158313.625000  155458.296360\n",
       "2  182957.265625  184848.531624\n",
       "3  188232.843750  188103.937505\n",
       "4  187101.953125  183227.873951"
      ]
     },
     "execution_count": 319,
     "metadata": {},
     "output_type": "execute_result"
    }
   ],
   "source": [
    "predictions.head()"
   ]
  },
  {
   "cell_type": "code",
   "execution_count": null,
   "metadata": {
    "collapsed": true
   },
   "outputs": [],
   "source": []
  },
  {
   "cell_type": "code",
   "execution_count": null,
   "metadata": {
    "collapsed": true
   },
   "outputs": [],
   "source": []
  },
  {
   "cell_type": "code",
   "execution_count": 36,
   "metadata": {},
   "outputs": [
    {
     "name": "stdout",
     "output_type": "stream",
     "text": [
      "1\n",
      "{'learning_rate': 0.01, 'min_sum_hessian_in_leaf': 20, 'feature_fraction': 0.85, 'max_depth': 16, 'bagging_fraction': 0.85, 'lambda_l2': 2.1, 'boosting_type': 'gbdt', 'metric': 'rmse', 'objective': 'regression', 'verbose': 0}\n",
      "Training until validation scores don't improve for 50 rounds.\n",
      "[500]\tvalid_0's rmse: 0.137447\n",
      "[1000]\tvalid_0's rmse: 0.133773\n"
     ]
    }
   ],
   "source": [
    "#### Iterationer\n",
    "#Træningssæt, validation sæt og test sæt - Lightgbm skal også have deres egne. Alternativt kan vi lade være med at \n",
    "#bruge deres specialdesignet matricer men tror ikke det kan undgås til selve tuningen, når at watchlist skal laves?\n",
    "X2_train = np.array(X_train)\n",
    "Y2_train = np.array(Y_train)\n",
    "X2_test  = np.array(X_test)\n",
    "Y2_test  = np.array(Y_test)\n",
    "#Skal gøres 1 dimensionel for at lgb spiser dem\n",
    "y=Y2_train.ravel()\n",
    "y2 = Y2_test.ravel()\n",
    "d_train = lgb.Dataset(X2_train, label=y)\n",
    "d_valid = lgb.Dataset(X2_test, label=y2)\n",
    "watchlist = [d_valid]\n",
    "\n",
    "#VI SKAL EKSPERIMENTERE MED BOOST TYPE OGSÅ!!!!!\n",
    "#gboost has access to three different boosting methods:\n",
    "#- \"gblinear\" (Generalized Linear Model) which is using Shotgun (Parallel Stochastic Gradient Descent);\n",
    "#- \"gbtree\" (Gradient Boosted Trees) which is the default boosting method using Decision Trees and Stochastic Gradient Descent;\n",
    "#- \"dart\" (Dropout Additive Regression Trees) which is a method employing the Dropout method from Neural Networks.\n",
    "#Defaults to \"gbtree\".\n",
    "#Iter = 100\n",
    "bestlgb_score_true = 1\n",
    "n_estimators = 1000\n",
    "#'early_stopping': 10\n",
    "\n",
    "lgb_pars = []\n",
    "for MCW in [20]:\n",
    "    #for ETA in [0.05, 0.1, 0.15]:\n",
    "        for CS in [0.85]:\n",
    "            for MD in [16]:\n",
    "                for SS in [0.85]:\n",
    "                    for LAMBDA in [2.1]:\n",
    "                        lgb_pars.append({'learning_rate': 0.01, 'min_sum_hessian_in_leaf': MCW,\n",
    "                                         'feature_fraction':CS, 'max_depth': MD,\n",
    "                                         'bagging_fraction': SS, 'lambda_l2': LAMBDA, \n",
    "                                         'boosting_type' : 'gbdt', 'metric': 'rmse',\n",
    "                                          'objective': 'regression', \n",
    "                                           'verbose': 0})\n",
    "#i = 0\n",
    "print(len(lgb_pars))\n",
    "for i in range(len(lgb_pars)):\n",
    "#while i < Iter:\n",
    "   # xgb_par = np.random.choice(xgb_pars, replace = False)\n",
    "    lgb_par = lgb_pars[i]\n",
    "    print(lgb_par)\n",
    "    lgb_model = lgb.train(lgb_par, d_train, n_estimators, watchlist, verbose_eval = 500, early_stopping_rounds = 50)\n",
    "    if int(lgb_model.best_score['valid_0']['rmse']) < bestlgb_score_true:\n",
    "        bestlgb_score_true = lgb_model.best_score['valid_0']['rmse']\n",
    "        lgb_par_best = lgb_par\n",
    "        \n",
    "    #print('Modeling RMSLE %.5f\\n' % bestlgb_score_true, lgb_par_best)"
   ]
  },
  {
   "cell_type": "code",
   "execution_count": 311,
   "metadata": {},
   "outputs": [
    {
     "name": "stdout",
     "output_type": "stream",
     "text": [
      "{'learning_rate': 0.01, 'min_sum_hessian_in_leaf': 20, 'feature_fraction': 0.85, 'max_depth': 16, 'bagging_fraction': 0.85, 'lambda_l2': 2.1, 'boosting_type': 'gbdt', 'metric': 'rmse', 'objective': 'regression', 'verbose': 0, 'max_bin': 255}\n"
     ]
    }
   ],
   "source": [
    "print(lgb_par)"
   ]
  },
  {
   "cell_type": "code",
   "execution_count": 312,
   "metadata": {},
   "outputs": [
    {
     "name": "stdout",
     "output_type": "stream",
     "text": [
      "Modeling RMSLE 0.11021\n",
      " {'learning_rate': 0.01, 'min_sum_hessian_in_leaf': 20, 'feature_fraction': 0.85, 'max_depth': 16, 'bagging_fraction': 0.85, 'lambda_l2': 2.1, 'boosting_type': 'gbdt', 'metric': 'rmse', 'objective': 'regression', 'verbose': 0, 'max_bin': 255}\n"
     ]
    }
   ],
   "source": [
    "print('Modeling RMSLE %.5f\\n' % bestlgb_score_true, lgb_par_best)"
   ]
  },
  {
   "cell_type": "code",
   "execution_count": 313,
   "metadata": {
    "scrolled": true
   },
   "outputs": [
    {
     "name": "stdout",
     "output_type": "stream",
     "text": [
      "[{'learning_rate': 0.01, 'min_sum_hessian_in_leaf': 20, 'feature_fraction': 0.85, 'max_depth': 16, 'bagging_fraction': 0.85, 'lambda_l2': 2.1, 'boosting_type': 'gbdt', 'metric': 'rmse', 'objective': 'regression', 'seed': 42, 'verbose': 0}]\n"
     ]
    }
   ],
   "source": [
    "lgb_pars_final = []\n",
    "lgb_pars_final.append({'learning_rate': 0.01, 'min_sum_hessian_in_leaf': 20,\n",
    "                                         'feature_fraction':0.85, 'max_depth': 16,\n",
    "                                         'bagging_fraction': 0.85, 'lambda_l2': 2.1, \n",
    "                                         'boosting_type' : 'gbdt', 'metric': 'rmse',\n",
    "                                          'objective': 'regression', 'seed':42, \n",
    "                                           'verbose': 0})\n",
    "print(lgb_pars_final)"
   ]
  },
  {
   "cell_type": "code",
   "execution_count": null,
   "metadata": {
    "collapsed": true
   },
   "outputs": [],
   "source": []
  },
  {
   "cell_type": "code",
   "execution_count": 314,
   "metadata": {},
   "outputs": [
    {
     "name": "stdout",
     "output_type": "stream",
     "text": [
      "Training until validation scores don't improve for 150 rounds.\n",
      "[500]\tvalid_0's rmse: 0.133256\n",
      "[1000]\tvalid_0's rmse: 0.129701\n",
      "[1500]\tvalid_0's rmse: 0.12905\n",
      "[2000]\tvalid_0's rmse: 0.128583\n",
      "[2500]\tvalid_0's rmse: 0.128054\n",
      "[3000]\tvalid_0's rmse: 0.127622\n",
      "[3500]\tvalid_0's rmse: 0.127274\n",
      "[4000]\tvalid_0's rmse: 0.127073\n",
      "[4500]\tvalid_0's rmse: 0.126935\n",
      "[5000]\tvalid_0's rmse: 0.12684\n",
      "[5500]\tvalid_0's rmse: 0.126723\n",
      "[6000]\tvalid_0's rmse: 0.126624\n",
      "[6500]\tvalid_0's rmse: 0.126533\n",
      "[7000]\tvalid_0's rmse: 0.126456\n",
      "[7500]\tvalid_0's rmse: 0.126391\n",
      "[8000]\tvalid_0's rmse: 0.12634\n",
      "[8500]\tvalid_0's rmse: 0.126297\n",
      "[9000]\tvalid_0's rmse: 0.126252\n",
      "[9500]\tvalid_0's rmse: 0.126212\n",
      "[10000]\tvalid_0's rmse: 0.126195\n",
      "[10500]\tvalid_0's rmse: 0.126169\n",
      "[11000]\tvalid_0's rmse: 0.126153\n",
      "[11500]\tvalid_0's rmse: 0.126134\n",
      "[12000]\tvalid_0's rmse: 0.12612\n",
      "[12500]\tvalid_0's rmse: 0.126107\n",
      "[13000]\tvalid_0's rmse: 0.126096\n",
      "[13500]\tvalid_0's rmse: 0.126084\n",
      "[14000]\tvalid_0's rmse: 0.126071\n",
      "[14500]\tvalid_0's rmse: 0.12606\n",
      "[15000]\tvalid_0's rmse: 0.126053\n",
      "[15500]\tvalid_0's rmse: 0.126045\n",
      "[16000]\tvalid_0's rmse: 0.126038\n",
      "[16500]\tvalid_0's rmse: 0.126031\n",
      "Early stopping, best iteration is:\n",
      "[16503]\tvalid_0's rmse: 0.126031\n",
      "Training until validation scores don't improve for 150 rounds.\n",
      "[500]\tvalid_0's rmse: 0.132765\n",
      "[1000]\tvalid_0's rmse: 0.129736\n",
      "Early stopping, best iteration is:\n",
      "[1142]\tvalid_0's rmse: 0.129672\n",
      "Training until validation scores don't improve for 150 rounds.\n",
      "[500]\tvalid_0's rmse: 0.133869\n",
      "Early stopping, best iteration is:\n",
      "[768]\tvalid_0's rmse: 0.13216\n",
      "Training until validation scores don't improve for 150 rounds.\n",
      "[500]\tvalid_0's rmse: 0.124213\n",
      "Early stopping, best iteration is:\n",
      "[595]\tvalid_0's rmse: 0.123819\n",
      "Training until validation scores don't improve for 150 rounds.\n",
      "[500]\tvalid_0's rmse: 0.112977\n",
      "Early stopping, best iteration is:\n",
      "[828]\tvalid_0's rmse: 0.110191\n"
     ]
    }
   ],
   "source": [
    "n_iters = 5\n",
    "n_estimators = 20000\n",
    "lgb_preds = []\n",
    "for i in range(n_iters): \n",
    "    Train, Test = train_test_split(train, test_size = 0.2, random_state = i)\n",
    "    X_train = Train.drop(['SalePrice'], axis=1)\n",
    "    Y_train = Train[\"SalePrice\"]\n",
    "    X_test = Test.drop(['SalePrice'], axis=1)\n",
    "    Y_test = Test[\"SalePrice\"]\n",
    "\n",
    "    Y_test = Y_test.reset_index().drop('index',axis = 1)\n",
    "    Y_train = Y_train.reset_index().drop('index',axis = 1)\n",
    "    \n",
    "    X2_train = np.array(X_train)\n",
    "    Y2_train = np.array(Y_train)\n",
    "    X2_test  = np.array(X_test)\n",
    "    Y2_test  = np.array(Y_test)\n",
    "    #Skal gøres 1 dimensionel for at lgb spiser dem\n",
    "    y=Y2_train.ravel()\n",
    "    y2 = Y2_test.ravel()\n",
    "    d_train = lgb.Dataset(X2_train, label=y)\n",
    "    d_valid = lgb.Dataset(X2_test, label=y2)\n",
    "    watchlist = [d_valid]\n",
    "\n",
    "    lgb_model = lgb.train(lgb_par_best , d_train, n_estimators, watchlist, verbose_eval = 500, early_stopping_rounds = 150)\n",
    "\n",
    "    preds = lgb_model.predict(test)\n",
    "    preds = np.exp(preds) - 1\n",
    "    lgb_preds.append(preds)"
   ]
  },
  {
   "cell_type": "code",
   "execution_count": 315,
   "metadata": {},
   "outputs": [
    {
     "data": {
      "text/plain": [
       "176897.1896442757"
      ]
     },
     "execution_count": 315,
     "metadata": {},
     "output_type": "execute_result"
    }
   ],
   "source": [
    "np.mean(lgb_preds[1])"
   ]
  },
  {
   "cell_type": "code",
   "execution_count": 316,
   "metadata": {
    "collapsed": true
   },
   "outputs": [],
   "source": [
    "lgb_predsmean = np.mean(lgb_preds, axis=0)"
   ]
  },
  {
   "cell_type": "code",
   "execution_count": 317,
   "metadata": {},
   "outputs": [
    {
     "data": {
      "text/plain": [
       "array([ 113238.72569675,  155458.2963601 ,  184848.53162351, ...,\n",
       "        155282.89248419,  119710.80828903,  221509.4516588 ])"
      ]
     },
     "execution_count": 317,
     "metadata": {},
     "output_type": "execute_result"
    }
   ],
   "source": [
    "lgb_predsmean"
   ]
  },
  {
   "cell_type": "code",
   "execution_count": 318,
   "metadata": {
    "collapsed": true
   },
   "outputs": [],
   "source": [
    "predictions['lgbpreds'] = lgb_predsmean"
   ]
  },
  {
   "cell_type": "code",
   "execution_count": 320,
   "metadata": {},
   "outputs": [
    {
     "data": {
      "text/html": [
       "<div>\n",
       "<style>\n",
       "    .dataframe thead tr:only-child th {\n",
       "        text-align: right;\n",
       "    }\n",
       "\n",
       "    .dataframe thead th {\n",
       "        text-align: left;\n",
       "    }\n",
       "\n",
       "    .dataframe tbody tr th {\n",
       "        vertical-align: top;\n",
       "    }\n",
       "</style>\n",
       "<table border=\"1\" class=\"dataframe\">\n",
       "  <thead>\n",
       "    <tr style=\"text-align: right;\">\n",
       "      <th></th>\n",
       "      <th>xgbpreds</th>\n",
       "      <th>lgbpreds</th>\n",
       "    </tr>\n",
       "  </thead>\n",
       "  <tbody>\n",
       "    <tr>\n",
       "      <th>0</th>\n",
       "      <td>116241.539062</td>\n",
       "      <td>113238.725697</td>\n",
       "    </tr>\n",
       "    <tr>\n",
       "      <th>1</th>\n",
       "      <td>158313.625000</td>\n",
       "      <td>155458.296360</td>\n",
       "    </tr>\n",
       "    <tr>\n",
       "      <th>2</th>\n",
       "      <td>182957.265625</td>\n",
       "      <td>184848.531624</td>\n",
       "    </tr>\n",
       "    <tr>\n",
       "      <th>3</th>\n",
       "      <td>188232.843750</td>\n",
       "      <td>188103.937505</td>\n",
       "    </tr>\n",
       "    <tr>\n",
       "      <th>4</th>\n",
       "      <td>187101.953125</td>\n",
       "      <td>183227.873951</td>\n",
       "    </tr>\n",
       "  </tbody>\n",
       "</table>\n",
       "</div>"
      ],
      "text/plain": [
       "        xgbpreds       lgbpreds\n",
       "0  116241.539062  113238.725697\n",
       "1  158313.625000  155458.296360\n",
       "2  182957.265625  184848.531624\n",
       "3  188232.843750  188103.937505\n",
       "4  187101.953125  183227.873951"
      ]
     },
     "execution_count": 320,
     "metadata": {},
     "output_type": "execute_result"
    }
   ],
   "source": [
    "predictions.head()"
   ]
  },
  {
   "cell_type": "code",
   "execution_count": null,
   "metadata": {
    "collapsed": true
   },
   "outputs": [],
   "source": []
  },
  {
   "cell_type": "code",
   "execution_count": null,
   "metadata": {
    "collapsed": true
   },
   "outputs": [],
   "source": []
  },
  {
   "cell_type": "code",
   "execution_count": null,
   "metadata": {
    "collapsed": true
   },
   "outputs": [],
   "source": []
  },
  {
   "cell_type": "code",
   "execution_count": null,
   "metadata": {
    "collapsed": true
   },
   "outputs": [],
   "source": []
  },
  {
   "cell_type": "code",
   "execution_count": null,
   "metadata": {
    "collapsed": true
   },
   "outputs": [],
   "source": []
  },
  {
   "cell_type": "code",
   "execution_count": null,
   "metadata": {
    "collapsed": true
   },
   "outputs": [],
   "source": []
  },
  {
   "cell_type": "code",
   "execution_count": 405,
   "metadata": {
    "collapsed": true
   },
   "outputs": [],
   "source": [
    "from sklearn.linear_model import LassoCV, LassoLarsCV\n",
    "from sklearn.grid_search import RandomizedSearchCV\n",
    "from sklearn.grid_search import GridSearchCV"
   ]
  },
  {
   "cell_type": "code",
   "execution_count": null,
   "metadata": {
    "collapsed": true
   },
   "outputs": [],
   "source": []
  },
  {
   "cell_type": "code",
   "execution_count": null,
   "metadata": {
    "collapsed": true
   },
   "outputs": [],
   "source": []
  },
  {
   "cell_type": "code",
   "execution_count": 406,
   "metadata": {
    "collapsed": true
   },
   "outputs": [],
   "source": [
    "train.drop(['SalePrice'], axis=1, inplace=True)"
   ]
  },
  {
   "cell_type": "code",
   "execution_count": 407,
   "metadata": {
    "collapsed": true
   },
   "outputs": [],
   "source": [
    "model_lasso = LassoCV(alphas = [1, 0.1, 0.001, 0.0005], selection='random', max_iter=20000).fit(train, y_train)"
   ]
  },
  {
   "cell_type": "code",
   "execution_count": 408,
   "metadata": {},
   "outputs": [
    {
     "name": "stdout",
     "output_type": "stream",
     "text": [
      "Lasso picked 100 variables and eliminated the other 123 variables\n"
     ]
    }
   ],
   "source": [
    "coef = pd.Series(model_lasso.coef_, index = train.columns)\n",
    "print(\"Lasso picked \" + str(sum(coef != 0)) + \" variables and eliminated the other \" +  str(sum(coef == 0)) + \" variables\")"
   ]
  },
  {
   "cell_type": "code",
   "execution_count": 409,
   "metadata": {
    "collapsed": true
   },
   "outputs": [],
   "source": [
    "lasso_preds = np.expm1(model_lasso.predict(test))"
   ]
  },
  {
   "cell_type": "code",
   "execution_count": 410,
   "metadata": {
    "collapsed": true
   },
   "outputs": [],
   "source": [
    "from sklearn.feature_selection import SelectFromModel\n",
    "selection = SelectFromModel(model_lasso, prefit=True)\n",
    "select_X_train = selection.transform(train)"
   ]
  },
  {
   "cell_type": "code",
   "execution_count": 411,
   "metadata": {},
   "outputs": [
    {
     "data": {
      "text/plain": [
       "array([ 117725.16138944,  146567.17116238,  173294.35741744, ...,\n",
       "        164294.27365652,  113845.56353309,  229069.48153068])"
      ]
     },
     "execution_count": 411,
     "metadata": {},
     "output_type": "execute_result"
    }
   ],
   "source": [
    "lasso_preds"
   ]
  },
  {
   "cell_type": "code",
   "execution_count": 424,
   "metadata": {
    "collapsed": true
   },
   "outputs": [],
   "source": [
    "x2_train = pd.DataFrame(select_X_train)"
   ]
  },
  {
   "cell_type": "code",
   "execution_count": 425,
   "metadata": {},
   "outputs": [
    {
     "data": {
      "text/html": [
       "<div>\n",
       "<style>\n",
       "    .dataframe thead tr:only-child th {\n",
       "        text-align: right;\n",
       "    }\n",
       "\n",
       "    .dataframe thead th {\n",
       "        text-align: left;\n",
       "    }\n",
       "\n",
       "    .dataframe tbody tr th {\n",
       "        vertical-align: top;\n",
       "    }\n",
       "</style>\n",
       "<table border=\"1\" class=\"dataframe\">\n",
       "  <thead>\n",
       "    <tr style=\"text-align: right;\">\n",
       "      <th></th>\n",
       "      <th>0</th>\n",
       "      <th>1</th>\n",
       "      <th>2</th>\n",
       "      <th>3</th>\n",
       "      <th>4</th>\n",
       "      <th>5</th>\n",
       "      <th>6</th>\n",
       "      <th>7</th>\n",
       "      <th>8</th>\n",
       "      <th>9</th>\n",
       "      <th>...</th>\n",
       "      <th>87</th>\n",
       "      <th>88</th>\n",
       "      <th>89</th>\n",
       "      <th>90</th>\n",
       "      <th>91</th>\n",
       "      <th>92</th>\n",
       "      <th>93</th>\n",
       "      <th>94</th>\n",
       "      <th>95</th>\n",
       "      <th>96</th>\n",
       "    </tr>\n",
       "  </thead>\n",
       "  <tbody>\n",
       "    <tr>\n",
       "      <th>0</th>\n",
       "      <td>856.0</td>\n",
       "      <td>854.0</td>\n",
       "      <td>0.0</td>\n",
       "      <td>2.0</td>\n",
       "      <td>3.0</td>\n",
       "      <td>3.0</td>\n",
       "      <td>3.0</td>\n",
       "      <td>706.0</td>\n",
       "      <td>0.0</td>\n",
       "      <td>2.0</td>\n",
       "      <td>...</td>\n",
       "      <td>0.0</td>\n",
       "      <td>0.0</td>\n",
       "      <td>0.0</td>\n",
       "      <td>0.0</td>\n",
       "      <td>1.0</td>\n",
       "      <td>0.0</td>\n",
       "      <td>0.0</td>\n",
       "      <td>1.0</td>\n",
       "      <td>0.0</td>\n",
       "      <td>1.0</td>\n",
       "    </tr>\n",
       "    <tr>\n",
       "      <th>1</th>\n",
       "      <td>1262.0</td>\n",
       "      <td>0.0</td>\n",
       "      <td>0.0</td>\n",
       "      <td>2.0</td>\n",
       "      <td>3.0</td>\n",
       "      <td>3.0</td>\n",
       "      <td>1.0</td>\n",
       "      <td>978.0</td>\n",
       "      <td>0.0</td>\n",
       "      <td>0.0</td>\n",
       "      <td>...</td>\n",
       "      <td>0.0</td>\n",
       "      <td>0.0</td>\n",
       "      <td>0.0</td>\n",
       "      <td>0.0</td>\n",
       "      <td>1.0</td>\n",
       "      <td>0.0</td>\n",
       "      <td>0.0</td>\n",
       "      <td>1.0</td>\n",
       "      <td>0.0</td>\n",
       "      <td>1.0</td>\n",
       "    </tr>\n",
       "    <tr>\n",
       "      <th>2</th>\n",
       "      <td>920.0</td>\n",
       "      <td>866.0</td>\n",
       "      <td>0.0</td>\n",
       "      <td>2.0</td>\n",
       "      <td>3.0</td>\n",
       "      <td>3.0</td>\n",
       "      <td>2.0</td>\n",
       "      <td>486.0</td>\n",
       "      <td>0.0</td>\n",
       "      <td>2.0</td>\n",
       "      <td>...</td>\n",
       "      <td>0.0</td>\n",
       "      <td>0.0</td>\n",
       "      <td>0.0</td>\n",
       "      <td>0.0</td>\n",
       "      <td>1.0</td>\n",
       "      <td>0.0</td>\n",
       "      <td>0.0</td>\n",
       "      <td>1.0</td>\n",
       "      <td>0.0</td>\n",
       "      <td>1.0</td>\n",
       "    </tr>\n",
       "    <tr>\n",
       "      <th>3</th>\n",
       "      <td>961.0</td>\n",
       "      <td>756.0</td>\n",
       "      <td>0.0</td>\n",
       "      <td>2.0</td>\n",
       "      <td>3.0</td>\n",
       "      <td>1.0</td>\n",
       "      <td>3.0</td>\n",
       "      <td>216.0</td>\n",
       "      <td>0.0</td>\n",
       "      <td>0.0</td>\n",
       "      <td>...</td>\n",
       "      <td>0.0</td>\n",
       "      <td>0.0</td>\n",
       "      <td>0.0</td>\n",
       "      <td>0.0</td>\n",
       "      <td>1.0</td>\n",
       "      <td>1.0</td>\n",
       "      <td>0.0</td>\n",
       "      <td>0.0</td>\n",
       "      <td>0.0</td>\n",
       "      <td>1.0</td>\n",
       "    </tr>\n",
       "    <tr>\n",
       "      <th>4</th>\n",
       "      <td>1145.0</td>\n",
       "      <td>1053.0</td>\n",
       "      <td>0.0</td>\n",
       "      <td>2.0</td>\n",
       "      <td>4.0</td>\n",
       "      <td>3.0</td>\n",
       "      <td>0.0</td>\n",
       "      <td>655.0</td>\n",
       "      <td>0.0</td>\n",
       "      <td>2.0</td>\n",
       "      <td>...</td>\n",
       "      <td>0.0</td>\n",
       "      <td>0.0</td>\n",
       "      <td>0.0</td>\n",
       "      <td>0.0</td>\n",
       "      <td>1.0</td>\n",
       "      <td>0.0</td>\n",
       "      <td>0.0</td>\n",
       "      <td>1.0</td>\n",
       "      <td>0.0</td>\n",
       "      <td>1.0</td>\n",
       "    </tr>\n",
       "  </tbody>\n",
       "</table>\n",
       "<p>5 rows × 97 columns</p>\n",
       "</div>"
      ],
      "text/plain": [
       "       0       1    2    3    4    5    6      7    8    9  ...    87   88  \\\n",
       "0   856.0   854.0  0.0  2.0  3.0  3.0  3.0  706.0  0.0  2.0 ...   0.0  0.0   \n",
       "1  1262.0     0.0  0.0  2.0  3.0  3.0  1.0  978.0  0.0  0.0 ...   0.0  0.0   \n",
       "2   920.0   866.0  0.0  2.0  3.0  3.0  2.0  486.0  0.0  2.0 ...   0.0  0.0   \n",
       "3   961.0   756.0  0.0  2.0  3.0  1.0  3.0  216.0  0.0  0.0 ...   0.0  0.0   \n",
       "4  1145.0  1053.0  0.0  2.0  4.0  3.0  0.0  655.0  0.0  2.0 ...   0.0  0.0   \n",
       "\n",
       "    89   90   91   92   93   94   95   96  \n",
       "0  0.0  0.0  1.0  0.0  0.0  1.0  0.0  1.0  \n",
       "1  0.0  0.0  1.0  0.0  0.0  1.0  0.0  1.0  \n",
       "2  0.0  0.0  1.0  0.0  0.0  1.0  0.0  1.0  \n",
       "3  0.0  0.0  1.0  1.0  0.0  0.0  0.0  1.0  \n",
       "4  0.0  0.0  1.0  0.0  0.0  1.0  0.0  1.0  \n",
       "\n",
       "[5 rows x 97 columns]"
      ]
     },
     "execution_count": 425,
     "metadata": {},
     "output_type": "execute_result"
    }
   ],
   "source": [
    "x2_train.head()"
   ]
  },
  {
   "cell_type": "code",
   "execution_count": 327,
   "metadata": {
    "collapsed": true
   },
   "outputs": [],
   "source": [
    "predictions['lassopreds'] = lasso_preds"
   ]
  },
  {
   "cell_type": "code",
   "execution_count": 328,
   "metadata": {},
   "outputs": [
    {
     "data": {
      "text/html": [
       "<div>\n",
       "<style>\n",
       "    .dataframe thead tr:only-child th {\n",
       "        text-align: right;\n",
       "    }\n",
       "\n",
       "    .dataframe thead th {\n",
       "        text-align: left;\n",
       "    }\n",
       "\n",
       "    .dataframe tbody tr th {\n",
       "        vertical-align: top;\n",
       "    }\n",
       "</style>\n",
       "<table border=\"1\" class=\"dataframe\">\n",
       "  <thead>\n",
       "    <tr style=\"text-align: right;\">\n",
       "      <th></th>\n",
       "      <th>xgbpreds</th>\n",
       "      <th>lgbpreds</th>\n",
       "      <th>lassopreds</th>\n",
       "    </tr>\n",
       "  </thead>\n",
       "  <tbody>\n",
       "    <tr>\n",
       "      <th>0</th>\n",
       "      <td>116241.539062</td>\n",
       "      <td>113238.725697</td>\n",
       "      <td>107469.719901</td>\n",
       "    </tr>\n",
       "    <tr>\n",
       "      <th>1</th>\n",
       "      <td>158313.625000</td>\n",
       "      <td>155458.296360</td>\n",
       "      <td>144524.595438</td>\n",
       "    </tr>\n",
       "    <tr>\n",
       "      <th>2</th>\n",
       "      <td>182957.265625</td>\n",
       "      <td>184848.531624</td>\n",
       "      <td>171932.722207</td>\n",
       "    </tr>\n",
       "    <tr>\n",
       "      <th>3</th>\n",
       "      <td>188232.843750</td>\n",
       "      <td>188103.937505</td>\n",
       "      <td>198505.228258</td>\n",
       "    </tr>\n",
       "    <tr>\n",
       "      <th>4</th>\n",
       "      <td>187101.953125</td>\n",
       "      <td>183227.873951</td>\n",
       "      <td>200533.324883</td>\n",
       "    </tr>\n",
       "  </tbody>\n",
       "</table>\n",
       "</div>"
      ],
      "text/plain": [
       "        xgbpreds       lgbpreds     lassopreds\n",
       "0  116241.539062  113238.725697  107469.719901\n",
       "1  158313.625000  155458.296360  144524.595438\n",
       "2  182957.265625  184848.531624  171932.722207\n",
       "3  188232.843750  188103.937505  198505.228258\n",
       "4  187101.953125  183227.873951  200533.324883"
      ]
     },
     "execution_count": 328,
     "metadata": {},
     "output_type": "execute_result"
    }
   ],
   "source": [
    "predictions.head()"
   ]
  },
  {
   "cell_type": "code",
   "execution_count": 358,
   "metadata": {
    "collapsed": true
   },
   "outputs": [],
   "source": [
    "from xgboost import XGBRegressor"
   ]
  },
  {
   "cell_type": "code",
   "execution_count": 351,
   "metadata": {
    "collapsed": true
   },
   "outputs": [],
   "source": [
    "param = {\n",
    " 'n_estimators':[500,800,1000,2000],\n",
    " 'max_depth':[3,4,6,8,10],\n",
    " 'min_child_weight':[4,6,8,10,12],\n",
    " 'colsample_bytree':[0.2,0.6,0.8],\n",
    " 'colsample_bylevel':[0.2,0.6,0.8]\n",
    "}"
   ]
  },
  {
   "cell_type": "code",
   "execution_count": 361,
   "metadata": {
    "collapsed": true
   },
   "outputs": [],
   "source": [
    "gsearch1 = GridSearchCV(estimator = XGBRegressor( \n",
    "        objective= 'reg:linear', \n",
    "        seed=1), \n",
    "    param_grid = param, \n",
    "    scoring='neg_mean_absolute_error',\n",
    "    cv=5,\n",
    "    verbose = 1)\n"
   ]
  },
  {
   "cell_type": "code",
   "execution_count": 362,
   "metadata": {},
   "outputs": [
    {
     "name": "stdout",
     "output_type": "stream",
     "text": [
      "Fitting 5 folds for each of 900 candidates, totalling 4500 fits\n"
     ]
    },
    {
     "ename": "KeyboardInterrupt",
     "evalue": "",
     "output_type": "error",
     "traceback": [
      "\u001b[1;31m---------------------------------------------------------------------------\u001b[0m",
      "\u001b[1;31mKeyboardInterrupt\u001b[0m                         Traceback (most recent call last)",
      "\u001b[1;32m<ipython-input-362-8d8f6e9bb10b>\u001b[0m in \u001b[0;36m<module>\u001b[1;34m()\u001b[0m\n\u001b[1;32m----> 1\u001b[1;33m \u001b[0mgsearch1\u001b[0m\u001b[1;33m.\u001b[0m\u001b[0mfit\u001b[0m\u001b[1;33m(\u001b[0m\u001b[0mtrain\u001b[0m\u001b[1;33m,\u001b[0m \u001b[0my_train\u001b[0m\u001b[1;33m)\u001b[0m\u001b[1;33m\u001b[0m\u001b[0m\n\u001b[0m",
      "\u001b[1;32mC:\\Users\\Alexander\\Anaconda3\\lib\\site-packages\\sklearn\\grid_search.py\u001b[0m in \u001b[0;36mfit\u001b[1;34m(self, X, y)\u001b[0m\n\u001b[0;32m    836\u001b[0m \u001b[1;33m\u001b[0m\u001b[0m\n\u001b[0;32m    837\u001b[0m         \"\"\"\n\u001b[1;32m--> 838\u001b[1;33m         \u001b[1;32mreturn\u001b[0m \u001b[0mself\u001b[0m\u001b[1;33m.\u001b[0m\u001b[0m_fit\u001b[0m\u001b[1;33m(\u001b[0m\u001b[0mX\u001b[0m\u001b[1;33m,\u001b[0m \u001b[0my\u001b[0m\u001b[1;33m,\u001b[0m \u001b[0mParameterGrid\u001b[0m\u001b[1;33m(\u001b[0m\u001b[0mself\u001b[0m\u001b[1;33m.\u001b[0m\u001b[0mparam_grid\u001b[0m\u001b[1;33m)\u001b[0m\u001b[1;33m)\u001b[0m\u001b[1;33m\u001b[0m\u001b[0m\n\u001b[0m\u001b[0;32m    839\u001b[0m \u001b[1;33m\u001b[0m\u001b[0m\n\u001b[0;32m    840\u001b[0m \u001b[1;33m\u001b[0m\u001b[0m\n",
      "\u001b[1;32mC:\\Users\\Alexander\\Anaconda3\\lib\\site-packages\\sklearn\\grid_search.py\u001b[0m in \u001b[0;36m_fit\u001b[1;34m(self, X, y, parameter_iterable)\u001b[0m\n\u001b[0;32m    572\u001b[0m                                     \u001b[0mself\u001b[0m\u001b[1;33m.\u001b[0m\u001b[0mfit_params\u001b[0m\u001b[1;33m,\u001b[0m \u001b[0mreturn_parameters\u001b[0m\u001b[1;33m=\u001b[0m\u001b[1;32mTrue\u001b[0m\u001b[1;33m,\u001b[0m\u001b[1;33m\u001b[0m\u001b[0m\n\u001b[0;32m    573\u001b[0m                                     error_score=self.error_score)\n\u001b[1;32m--> 574\u001b[1;33m                 \u001b[1;32mfor\u001b[0m \u001b[0mparameters\u001b[0m \u001b[1;32min\u001b[0m \u001b[0mparameter_iterable\u001b[0m\u001b[1;33m\u001b[0m\u001b[0m\n\u001b[0m\u001b[0;32m    575\u001b[0m                 for train, test in cv)\n\u001b[0;32m    576\u001b[0m \u001b[1;33m\u001b[0m\u001b[0m\n",
      "\u001b[1;32mC:\\Users\\Alexander\\Anaconda3\\lib\\site-packages\\sklearn\\externals\\joblib\\parallel.py\u001b[0m in \u001b[0;36m__call__\u001b[1;34m(self, iterable)\u001b[0m\n\u001b[0;32m    777\u001b[0m             \u001b[1;31m# was dispatched. In particular this covers the edge\u001b[0m\u001b[1;33m\u001b[0m\u001b[1;33m\u001b[0m\u001b[0m\n\u001b[0;32m    778\u001b[0m             \u001b[1;31m# case of Parallel used with an exhausted iterator.\u001b[0m\u001b[1;33m\u001b[0m\u001b[1;33m\u001b[0m\u001b[0m\n\u001b[1;32m--> 779\u001b[1;33m             \u001b[1;32mwhile\u001b[0m \u001b[0mself\u001b[0m\u001b[1;33m.\u001b[0m\u001b[0mdispatch_one_batch\u001b[0m\u001b[1;33m(\u001b[0m\u001b[0miterator\u001b[0m\u001b[1;33m)\u001b[0m\u001b[1;33m:\u001b[0m\u001b[1;33m\u001b[0m\u001b[0m\n\u001b[0m\u001b[0;32m    780\u001b[0m                 \u001b[0mself\u001b[0m\u001b[1;33m.\u001b[0m\u001b[0m_iterating\u001b[0m \u001b[1;33m=\u001b[0m \u001b[1;32mTrue\u001b[0m\u001b[1;33m\u001b[0m\u001b[0m\n\u001b[0;32m    781\u001b[0m             \u001b[1;32melse\u001b[0m\u001b[1;33m:\u001b[0m\u001b[1;33m\u001b[0m\u001b[0m\n",
      "\u001b[1;32mC:\\Users\\Alexander\\Anaconda3\\lib\\site-packages\\sklearn\\externals\\joblib\\parallel.py\u001b[0m in \u001b[0;36mdispatch_one_batch\u001b[1;34m(self, iterator)\u001b[0m\n\u001b[0;32m    623\u001b[0m                 \u001b[1;32mreturn\u001b[0m \u001b[1;32mFalse\u001b[0m\u001b[1;33m\u001b[0m\u001b[0m\n\u001b[0;32m    624\u001b[0m             \u001b[1;32melse\u001b[0m\u001b[1;33m:\u001b[0m\u001b[1;33m\u001b[0m\u001b[0m\n\u001b[1;32m--> 625\u001b[1;33m                 \u001b[0mself\u001b[0m\u001b[1;33m.\u001b[0m\u001b[0m_dispatch\u001b[0m\u001b[1;33m(\u001b[0m\u001b[0mtasks\u001b[0m\u001b[1;33m)\u001b[0m\u001b[1;33m\u001b[0m\u001b[0m\n\u001b[0m\u001b[0;32m    626\u001b[0m                 \u001b[1;32mreturn\u001b[0m \u001b[1;32mTrue\u001b[0m\u001b[1;33m\u001b[0m\u001b[0m\n\u001b[0;32m    627\u001b[0m \u001b[1;33m\u001b[0m\u001b[0m\n",
      "\u001b[1;32mC:\\Users\\Alexander\\Anaconda3\\lib\\site-packages\\sklearn\\externals\\joblib\\parallel.py\u001b[0m in \u001b[0;36m_dispatch\u001b[1;34m(self, batch)\u001b[0m\n\u001b[0;32m    586\u001b[0m         \u001b[0mdispatch_timestamp\u001b[0m \u001b[1;33m=\u001b[0m \u001b[0mtime\u001b[0m\u001b[1;33m.\u001b[0m\u001b[0mtime\u001b[0m\u001b[1;33m(\u001b[0m\u001b[1;33m)\u001b[0m\u001b[1;33m\u001b[0m\u001b[0m\n\u001b[0;32m    587\u001b[0m         \u001b[0mcb\u001b[0m \u001b[1;33m=\u001b[0m \u001b[0mBatchCompletionCallBack\u001b[0m\u001b[1;33m(\u001b[0m\u001b[0mdispatch_timestamp\u001b[0m\u001b[1;33m,\u001b[0m \u001b[0mlen\u001b[0m\u001b[1;33m(\u001b[0m\u001b[0mbatch\u001b[0m\u001b[1;33m)\u001b[0m\u001b[1;33m,\u001b[0m \u001b[0mself\u001b[0m\u001b[1;33m)\u001b[0m\u001b[1;33m\u001b[0m\u001b[0m\n\u001b[1;32m--> 588\u001b[1;33m         \u001b[0mjob\u001b[0m \u001b[1;33m=\u001b[0m \u001b[0mself\u001b[0m\u001b[1;33m.\u001b[0m\u001b[0m_backend\u001b[0m\u001b[1;33m.\u001b[0m\u001b[0mapply_async\u001b[0m\u001b[1;33m(\u001b[0m\u001b[0mbatch\u001b[0m\u001b[1;33m,\u001b[0m \u001b[0mcallback\u001b[0m\u001b[1;33m=\u001b[0m\u001b[0mcb\u001b[0m\u001b[1;33m)\u001b[0m\u001b[1;33m\u001b[0m\u001b[0m\n\u001b[0m\u001b[0;32m    589\u001b[0m         \u001b[0mself\u001b[0m\u001b[1;33m.\u001b[0m\u001b[0m_jobs\u001b[0m\u001b[1;33m.\u001b[0m\u001b[0mappend\u001b[0m\u001b[1;33m(\u001b[0m\u001b[0mjob\u001b[0m\u001b[1;33m)\u001b[0m\u001b[1;33m\u001b[0m\u001b[0m\n\u001b[0;32m    590\u001b[0m \u001b[1;33m\u001b[0m\u001b[0m\n",
      "\u001b[1;32mC:\\Users\\Alexander\\Anaconda3\\lib\\site-packages\\sklearn\\externals\\joblib\\_parallel_backends.py\u001b[0m in \u001b[0;36mapply_async\u001b[1;34m(self, func, callback)\u001b[0m\n\u001b[0;32m    109\u001b[0m     \u001b[1;32mdef\u001b[0m \u001b[0mapply_async\u001b[0m\u001b[1;33m(\u001b[0m\u001b[0mself\u001b[0m\u001b[1;33m,\u001b[0m \u001b[0mfunc\u001b[0m\u001b[1;33m,\u001b[0m \u001b[0mcallback\u001b[0m\u001b[1;33m=\u001b[0m\u001b[1;32mNone\u001b[0m\u001b[1;33m)\u001b[0m\u001b[1;33m:\u001b[0m\u001b[1;33m\u001b[0m\u001b[0m\n\u001b[0;32m    110\u001b[0m         \u001b[1;34m\"\"\"Schedule a func to be run\"\"\"\u001b[0m\u001b[1;33m\u001b[0m\u001b[0m\n\u001b[1;32m--> 111\u001b[1;33m         \u001b[0mresult\u001b[0m \u001b[1;33m=\u001b[0m \u001b[0mImmediateResult\u001b[0m\u001b[1;33m(\u001b[0m\u001b[0mfunc\u001b[0m\u001b[1;33m)\u001b[0m\u001b[1;33m\u001b[0m\u001b[0m\n\u001b[0m\u001b[0;32m    112\u001b[0m         \u001b[1;32mif\u001b[0m \u001b[0mcallback\u001b[0m\u001b[1;33m:\u001b[0m\u001b[1;33m\u001b[0m\u001b[0m\n\u001b[0;32m    113\u001b[0m             \u001b[0mcallback\u001b[0m\u001b[1;33m(\u001b[0m\u001b[0mresult\u001b[0m\u001b[1;33m)\u001b[0m\u001b[1;33m\u001b[0m\u001b[0m\n",
      "\u001b[1;32mC:\\Users\\Alexander\\Anaconda3\\lib\\site-packages\\sklearn\\externals\\joblib\\_parallel_backends.py\u001b[0m in \u001b[0;36m__init__\u001b[1;34m(self, batch)\u001b[0m\n\u001b[0;32m    330\u001b[0m         \u001b[1;31m# Don't delay the application, to avoid keeping the input\u001b[0m\u001b[1;33m\u001b[0m\u001b[1;33m\u001b[0m\u001b[0m\n\u001b[0;32m    331\u001b[0m         \u001b[1;31m# arguments in memory\u001b[0m\u001b[1;33m\u001b[0m\u001b[1;33m\u001b[0m\u001b[0m\n\u001b[1;32m--> 332\u001b[1;33m         \u001b[0mself\u001b[0m\u001b[1;33m.\u001b[0m\u001b[0mresults\u001b[0m \u001b[1;33m=\u001b[0m \u001b[0mbatch\u001b[0m\u001b[1;33m(\u001b[0m\u001b[1;33m)\u001b[0m\u001b[1;33m\u001b[0m\u001b[0m\n\u001b[0m\u001b[0;32m    333\u001b[0m \u001b[1;33m\u001b[0m\u001b[0m\n\u001b[0;32m    334\u001b[0m     \u001b[1;32mdef\u001b[0m \u001b[0mget\u001b[0m\u001b[1;33m(\u001b[0m\u001b[0mself\u001b[0m\u001b[1;33m)\u001b[0m\u001b[1;33m:\u001b[0m\u001b[1;33m\u001b[0m\u001b[0m\n",
      "\u001b[1;32mC:\\Users\\Alexander\\Anaconda3\\lib\\site-packages\\sklearn\\externals\\joblib\\parallel.py\u001b[0m in \u001b[0;36m__call__\u001b[1;34m(self)\u001b[0m\n\u001b[0;32m    129\u001b[0m \u001b[1;33m\u001b[0m\u001b[0m\n\u001b[0;32m    130\u001b[0m     \u001b[1;32mdef\u001b[0m \u001b[0m__call__\u001b[0m\u001b[1;33m(\u001b[0m\u001b[0mself\u001b[0m\u001b[1;33m)\u001b[0m\u001b[1;33m:\u001b[0m\u001b[1;33m\u001b[0m\u001b[0m\n\u001b[1;32m--> 131\u001b[1;33m         \u001b[1;32mreturn\u001b[0m \u001b[1;33m[\u001b[0m\u001b[0mfunc\u001b[0m\u001b[1;33m(\u001b[0m\u001b[1;33m*\u001b[0m\u001b[0margs\u001b[0m\u001b[1;33m,\u001b[0m \u001b[1;33m**\u001b[0m\u001b[0mkwargs\u001b[0m\u001b[1;33m)\u001b[0m \u001b[1;32mfor\u001b[0m \u001b[0mfunc\u001b[0m\u001b[1;33m,\u001b[0m \u001b[0margs\u001b[0m\u001b[1;33m,\u001b[0m \u001b[0mkwargs\u001b[0m \u001b[1;32min\u001b[0m \u001b[0mself\u001b[0m\u001b[1;33m.\u001b[0m\u001b[0mitems\u001b[0m\u001b[1;33m]\u001b[0m\u001b[1;33m\u001b[0m\u001b[0m\n\u001b[0m\u001b[0;32m    132\u001b[0m \u001b[1;33m\u001b[0m\u001b[0m\n\u001b[0;32m    133\u001b[0m     \u001b[1;32mdef\u001b[0m \u001b[0m__len__\u001b[0m\u001b[1;33m(\u001b[0m\u001b[0mself\u001b[0m\u001b[1;33m)\u001b[0m\u001b[1;33m:\u001b[0m\u001b[1;33m\u001b[0m\u001b[0m\n",
      "\u001b[1;32mC:\\Users\\Alexander\\Anaconda3\\lib\\site-packages\\sklearn\\externals\\joblib\\parallel.py\u001b[0m in \u001b[0;36m<listcomp>\u001b[1;34m(.0)\u001b[0m\n\u001b[0;32m    129\u001b[0m \u001b[1;33m\u001b[0m\u001b[0m\n\u001b[0;32m    130\u001b[0m     \u001b[1;32mdef\u001b[0m \u001b[0m__call__\u001b[0m\u001b[1;33m(\u001b[0m\u001b[0mself\u001b[0m\u001b[1;33m)\u001b[0m\u001b[1;33m:\u001b[0m\u001b[1;33m\u001b[0m\u001b[0m\n\u001b[1;32m--> 131\u001b[1;33m         \u001b[1;32mreturn\u001b[0m \u001b[1;33m[\u001b[0m\u001b[0mfunc\u001b[0m\u001b[1;33m(\u001b[0m\u001b[1;33m*\u001b[0m\u001b[0margs\u001b[0m\u001b[1;33m,\u001b[0m \u001b[1;33m**\u001b[0m\u001b[0mkwargs\u001b[0m\u001b[1;33m)\u001b[0m \u001b[1;32mfor\u001b[0m \u001b[0mfunc\u001b[0m\u001b[1;33m,\u001b[0m \u001b[0margs\u001b[0m\u001b[1;33m,\u001b[0m \u001b[0mkwargs\u001b[0m \u001b[1;32min\u001b[0m \u001b[0mself\u001b[0m\u001b[1;33m.\u001b[0m\u001b[0mitems\u001b[0m\u001b[1;33m]\u001b[0m\u001b[1;33m\u001b[0m\u001b[0m\n\u001b[0m\u001b[0;32m    132\u001b[0m \u001b[1;33m\u001b[0m\u001b[0m\n\u001b[0;32m    133\u001b[0m     \u001b[1;32mdef\u001b[0m \u001b[0m__len__\u001b[0m\u001b[1;33m(\u001b[0m\u001b[0mself\u001b[0m\u001b[1;33m)\u001b[0m\u001b[1;33m:\u001b[0m\u001b[1;33m\u001b[0m\u001b[0m\n",
      "\u001b[1;32mC:\\Users\\Alexander\\Anaconda3\\lib\\site-packages\\sklearn\\cross_validation.py\u001b[0m in \u001b[0;36m_fit_and_score\u001b[1;34m(estimator, X, y, scorer, train, test, verbose, parameters, fit_params, return_train_score, return_parameters, error_score)\u001b[0m\n\u001b[0;32m   1673\u001b[0m             \u001b[0mestimator\u001b[0m\u001b[1;33m.\u001b[0m\u001b[0mfit\u001b[0m\u001b[1;33m(\u001b[0m\u001b[0mX_train\u001b[0m\u001b[1;33m,\u001b[0m \u001b[1;33m**\u001b[0m\u001b[0mfit_params\u001b[0m\u001b[1;33m)\u001b[0m\u001b[1;33m\u001b[0m\u001b[0m\n\u001b[0;32m   1674\u001b[0m         \u001b[1;32melse\u001b[0m\u001b[1;33m:\u001b[0m\u001b[1;33m\u001b[0m\u001b[0m\n\u001b[1;32m-> 1675\u001b[1;33m             \u001b[0mestimator\u001b[0m\u001b[1;33m.\u001b[0m\u001b[0mfit\u001b[0m\u001b[1;33m(\u001b[0m\u001b[0mX_train\u001b[0m\u001b[1;33m,\u001b[0m \u001b[0my_train\u001b[0m\u001b[1;33m,\u001b[0m \u001b[1;33m**\u001b[0m\u001b[0mfit_params\u001b[0m\u001b[1;33m)\u001b[0m\u001b[1;33m\u001b[0m\u001b[0m\n\u001b[0m\u001b[0;32m   1676\u001b[0m \u001b[1;33m\u001b[0m\u001b[0m\n\u001b[0;32m   1677\u001b[0m     \u001b[1;32mexcept\u001b[0m \u001b[0mException\u001b[0m \u001b[1;32mas\u001b[0m \u001b[0me\u001b[0m\u001b[1;33m:\u001b[0m\u001b[1;33m\u001b[0m\u001b[0m\n",
      "\u001b[1;32mC:\\Users\\Alexander\\Anaconda3\\lib\\site-packages\\xgboost\\sklearn.py\u001b[0m in \u001b[0;36mfit\u001b[1;34m(self, X, y, eval_set, eval_metric, early_stopping_rounds, verbose)\u001b[0m\n\u001b[0;32m    249\u001b[0m                               \u001b[0mearly_stopping_rounds\u001b[0m\u001b[1;33m=\u001b[0m\u001b[0mearly_stopping_rounds\u001b[0m\u001b[1;33m,\u001b[0m\u001b[1;33m\u001b[0m\u001b[0m\n\u001b[0;32m    250\u001b[0m                               \u001b[0mevals_result\u001b[0m\u001b[1;33m=\u001b[0m\u001b[0mevals_result\u001b[0m\u001b[1;33m,\u001b[0m \u001b[0mobj\u001b[0m\u001b[1;33m=\u001b[0m\u001b[0mobj\u001b[0m\u001b[1;33m,\u001b[0m \u001b[0mfeval\u001b[0m\u001b[1;33m=\u001b[0m\u001b[0mfeval\u001b[0m\u001b[1;33m,\u001b[0m\u001b[1;33m\u001b[0m\u001b[0m\n\u001b[1;32m--> 251\u001b[1;33m                               verbose_eval=verbose)\n\u001b[0m\u001b[0;32m    252\u001b[0m \u001b[1;33m\u001b[0m\u001b[0m\n\u001b[0;32m    253\u001b[0m         \u001b[1;32mif\u001b[0m \u001b[0mevals_result\u001b[0m\u001b[1;33m:\u001b[0m\u001b[1;33m\u001b[0m\u001b[0m\n",
      "\u001b[1;32mC:\\Users\\Alexander\\Anaconda3\\lib\\site-packages\\xgboost\\training.py\u001b[0m in \u001b[0;36mtrain\u001b[1;34m(params, dtrain, num_boost_round, evals, obj, feval, maximize, early_stopping_rounds, evals_result, verbose_eval, learning_rates, xgb_model, callbacks)\u001b[0m\n\u001b[0;32m    203\u001b[0m                            \u001b[0mevals\u001b[0m\u001b[1;33m=\u001b[0m\u001b[0mevals\u001b[0m\u001b[1;33m,\u001b[0m\u001b[1;33m\u001b[0m\u001b[0m\n\u001b[0;32m    204\u001b[0m                            \u001b[0mobj\u001b[0m\u001b[1;33m=\u001b[0m\u001b[0mobj\u001b[0m\u001b[1;33m,\u001b[0m \u001b[0mfeval\u001b[0m\u001b[1;33m=\u001b[0m\u001b[0mfeval\u001b[0m\u001b[1;33m,\u001b[0m\u001b[1;33m\u001b[0m\u001b[0m\n\u001b[1;32m--> 205\u001b[1;33m                            xgb_model=xgb_model, callbacks=callbacks)\n\u001b[0m\u001b[0;32m    206\u001b[0m \u001b[1;33m\u001b[0m\u001b[0m\n\u001b[0;32m    207\u001b[0m \u001b[1;33m\u001b[0m\u001b[0m\n",
      "\u001b[1;32mC:\\Users\\Alexander\\Anaconda3\\lib\\site-packages\\xgboost\\training.py\u001b[0m in \u001b[0;36m_train_internal\u001b[1;34m(params, dtrain, num_boost_round, evals, obj, feval, xgb_model, callbacks)\u001b[0m\n\u001b[0;32m     74\u001b[0m         \u001b[1;31m# Skip the first update if it is a recovery step.\u001b[0m\u001b[1;33m\u001b[0m\u001b[1;33m\u001b[0m\u001b[0m\n\u001b[0;32m     75\u001b[0m         \u001b[1;32mif\u001b[0m \u001b[0mversion\u001b[0m \u001b[1;33m%\u001b[0m \u001b[1;36m2\u001b[0m \u001b[1;33m==\u001b[0m \u001b[1;36m0\u001b[0m\u001b[1;33m:\u001b[0m\u001b[1;33m\u001b[0m\u001b[0m\n\u001b[1;32m---> 76\u001b[1;33m             \u001b[0mbst\u001b[0m\u001b[1;33m.\u001b[0m\u001b[0mupdate\u001b[0m\u001b[1;33m(\u001b[0m\u001b[0mdtrain\u001b[0m\u001b[1;33m,\u001b[0m \u001b[0mi\u001b[0m\u001b[1;33m,\u001b[0m \u001b[0mobj\u001b[0m\u001b[1;33m)\u001b[0m\u001b[1;33m\u001b[0m\u001b[0m\n\u001b[0m\u001b[0;32m     77\u001b[0m             \u001b[0mbst\u001b[0m\u001b[1;33m.\u001b[0m\u001b[0msave_rabit_checkpoint\u001b[0m\u001b[1;33m(\u001b[0m\u001b[1;33m)\u001b[0m\u001b[1;33m\u001b[0m\u001b[0m\n\u001b[0;32m     78\u001b[0m             \u001b[0mversion\u001b[0m \u001b[1;33m+=\u001b[0m \u001b[1;36m1\u001b[0m\u001b[1;33m\u001b[0m\u001b[0m\n",
      "\u001b[1;32mC:\\Users\\Alexander\\Anaconda3\\lib\\site-packages\\xgboost\\core.py\u001b[0m in \u001b[0;36mupdate\u001b[1;34m(self, dtrain, iteration, fobj)\u001b[0m\n\u001b[0;32m    804\u001b[0m \u001b[1;33m\u001b[0m\u001b[0m\n\u001b[0;32m    805\u001b[0m         \u001b[1;32mif\u001b[0m \u001b[0mfobj\u001b[0m \u001b[1;32mis\u001b[0m \u001b[1;32mNone\u001b[0m\u001b[1;33m:\u001b[0m\u001b[1;33m\u001b[0m\u001b[0m\n\u001b[1;32m--> 806\u001b[1;33m             \u001b[0m_check_call\u001b[0m\u001b[1;33m(\u001b[0m\u001b[0m_LIB\u001b[0m\u001b[1;33m.\u001b[0m\u001b[0mXGBoosterUpdateOneIter\u001b[0m\u001b[1;33m(\u001b[0m\u001b[0mself\u001b[0m\u001b[1;33m.\u001b[0m\u001b[0mhandle\u001b[0m\u001b[1;33m,\u001b[0m \u001b[0miteration\u001b[0m\u001b[1;33m,\u001b[0m \u001b[0mdtrain\u001b[0m\u001b[1;33m.\u001b[0m\u001b[0mhandle\u001b[0m\u001b[1;33m)\u001b[0m\u001b[1;33m)\u001b[0m\u001b[1;33m\u001b[0m\u001b[0m\n\u001b[0m\u001b[0;32m    807\u001b[0m         \u001b[1;32melse\u001b[0m\u001b[1;33m:\u001b[0m\u001b[1;33m\u001b[0m\u001b[0m\n\u001b[0;32m    808\u001b[0m             \u001b[0mpred\u001b[0m \u001b[1;33m=\u001b[0m \u001b[0mself\u001b[0m\u001b[1;33m.\u001b[0m\u001b[0mpredict\u001b[0m\u001b[1;33m(\u001b[0m\u001b[0mdtrain\u001b[0m\u001b[1;33m)\u001b[0m\u001b[1;33m\u001b[0m\u001b[0m\n",
      "\u001b[1;31mKeyboardInterrupt\u001b[0m: "
     ]
    }
   ],
   "source": [
    "gsearch1.fit(train, y_train)"
   ]
  },
  {
   "cell_type": "code",
   "execution_count": null,
   "metadata": {
    "collapsed": true
   },
   "outputs": [],
   "source": []
  },
  {
   "cell_type": "code",
   "execution_count": 347,
   "metadata": {},
   "outputs": [
    {
     "data": {
      "text/plain": [
       "{'booster': 'gbtree',\n",
       " 'colsample_bytree': 0.5,\n",
       " 'eta': 0.01,\n",
       " 'eval_metric': 'rmse',\n",
       " 'lambda': 1.7,\n",
       " 'max_depth': 13,\n",
       " 'min_child_weight': 21,\n",
       " 'nthread': -1,\n",
       " 'objective': 'reg:linear',\n",
       " 'seed': 42,\n",
       " 'silent': 1,\n",
       " 'subsample': 0.85}"
      ]
     },
     "execution_count": 347,
     "metadata": {},
     "output_type": "execute_result"
    }
   ],
   "source": [
    "{'min_child_weight': 21, 'eta': 0.01, 'colsample_bytree': 0.5, \n",
    " 'max_depth': 13, 'subsample': 0.85, 'lambda': 1.7, 'nthread': -1, 'booster': 'gbtree', \n",
    " 'eval_metric': 'rmse', 'silent': 1, 'objective': 'reg:linear', 'seed': 42}"
   ]
  },
  {
   "cell_type": "code",
   "execution_count": null,
   "metadata": {
    "collapsed": true
   },
   "outputs": [],
   "source": []
  },
  {
   "cell_type": "code",
   "execution_count": null,
   "metadata": {
    "collapsed": true
   },
   "outputs": [],
   "source": []
  },
  {
   "cell_type": "code",
   "execution_count": 329,
   "metadata": {
    "collapsed": true
   },
   "outputs": [],
   "source": [
    "from sklearn.linear_model import ElasticNet"
   ]
  },
  {
   "cell_type": "code",
   "execution_count": 330,
   "metadata": {
    "collapsed": true
   },
   "outputs": [],
   "source": [
    "elastic = ElasticNet(alpha=0.0005, l1_ratio=.9, random_state=3)"
   ]
  },
  {
   "cell_type": "code",
   "execution_count": 331,
   "metadata": {
    "collapsed": true
   },
   "outputs": [],
   "source": [
    "elastic_model = elastic.fit(train, y_train)"
   ]
  },
  {
   "cell_type": "code",
   "execution_count": 332,
   "metadata": {
    "collapsed": true
   },
   "outputs": [],
   "source": [
    "elastic_preds = np.expm1(elastic_model.predict(test))"
   ]
  },
  {
   "cell_type": "code",
   "execution_count": 333,
   "metadata": {
    "collapsed": true
   },
   "outputs": [],
   "source": [
    "predictions['elasticpreds'] = elastic_preds"
   ]
  },
  {
   "cell_type": "code",
   "execution_count": 334,
   "metadata": {},
   "outputs": [
    {
     "data": {
      "text/html": [
       "<div>\n",
       "<style>\n",
       "    .dataframe thead tr:only-child th {\n",
       "        text-align: right;\n",
       "    }\n",
       "\n",
       "    .dataframe thead th {\n",
       "        text-align: left;\n",
       "    }\n",
       "\n",
       "    .dataframe tbody tr th {\n",
       "        vertical-align: top;\n",
       "    }\n",
       "</style>\n",
       "<table border=\"1\" class=\"dataframe\">\n",
       "  <thead>\n",
       "    <tr style=\"text-align: right;\">\n",
       "      <th></th>\n",
       "      <th>xgbpreds</th>\n",
       "      <th>lgbpreds</th>\n",
       "      <th>lassopreds</th>\n",
       "      <th>elasticpreds</th>\n",
       "    </tr>\n",
       "  </thead>\n",
       "  <tbody>\n",
       "    <tr>\n",
       "      <th>0</th>\n",
       "      <td>116241.539062</td>\n",
       "      <td>113238.725697</td>\n",
       "      <td>107469.719901</td>\n",
       "      <td>106344.140032</td>\n",
       "    </tr>\n",
       "    <tr>\n",
       "      <th>1</th>\n",
       "      <td>158313.625000</td>\n",
       "      <td>155458.296360</td>\n",
       "      <td>144524.595438</td>\n",
       "      <td>147490.896063</td>\n",
       "    </tr>\n",
       "    <tr>\n",
       "      <th>2</th>\n",
       "      <td>182957.265625</td>\n",
       "      <td>184848.531624</td>\n",
       "      <td>171932.722207</td>\n",
       "      <td>170482.560509</td>\n",
       "    </tr>\n",
       "    <tr>\n",
       "      <th>3</th>\n",
       "      <td>188232.843750</td>\n",
       "      <td>188103.937505</td>\n",
       "      <td>198505.228258</td>\n",
       "      <td>196396.109781</td>\n",
       "    </tr>\n",
       "    <tr>\n",
       "      <th>4</th>\n",
       "      <td>187101.953125</td>\n",
       "      <td>183227.873951</td>\n",
       "      <td>200533.324883</td>\n",
       "      <td>205669.076200</td>\n",
       "    </tr>\n",
       "  </tbody>\n",
       "</table>\n",
       "</div>"
      ],
      "text/plain": [
       "        xgbpreds       lgbpreds     lassopreds   elasticpreds\n",
       "0  116241.539062  113238.725697  107469.719901  106344.140032\n",
       "1  158313.625000  155458.296360  144524.595438  147490.896063\n",
       "2  182957.265625  184848.531624  171932.722207  170482.560509\n",
       "3  188232.843750  188103.937505  198505.228258  196396.109781\n",
       "4  187101.953125  183227.873951  200533.324883  205669.076200"
      ]
     },
     "execution_count": 334,
     "metadata": {},
     "output_type": "execute_result"
    }
   ],
   "source": [
    "predictions.head()"
   ]
  },
  {
   "cell_type": "code",
   "execution_count": null,
   "metadata": {
    "collapsed": true
   },
   "outputs": [],
   "source": []
  },
  {
   "cell_type": "code",
   "execution_count": 335,
   "metadata": {
    "collapsed": true
   },
   "outputs": [],
   "source": [
    "from sklearn.neighbors import KNeighborsRegressor\n",
    "neigh = KNeighborsRegressor()\n"
   ]
  },
  {
   "cell_type": "code",
   "execution_count": 336,
   "metadata": {
    "collapsed": true
   },
   "outputs": [],
   "source": [
    "knn_params = {\"n_neighbors\": np.arange(1, 31, 2), 'leaf_size': np.arange(1, 31, 2),\n",
    "   \"metric\": [\"euclidean\", \"cityblock\"]}"
   ]
  },
  {
   "cell_type": "code",
   "execution_count": 338,
   "metadata": {},
   "outputs": [
    {
     "data": {
      "text/plain": [
       "{'leaf_size': 17, 'metric': 'cityblock', 'n_neighbors': 7}"
      ]
     },
     "execution_count": 338,
     "metadata": {},
     "output_type": "execute_result"
    }
   ],
   "source": [
    "grid = GridSearchCV(neigh, knn_params)\n",
    "\n",
    "grid.fit(train, y_train)\n",
    "grid.best_params_"
   ]
  },
  {
   "cell_type": "code",
   "execution_count": 339,
   "metadata": {
    "collapsed": true
   },
   "outputs": [],
   "source": [
    "knn_model = KNeighborsRegressor(n_neighbors = 11, leaf_size = 3, metric = 'cityblock')"
   ]
  },
  {
   "cell_type": "code",
   "execution_count": 340,
   "metadata": {},
   "outputs": [
    {
     "data": {
      "text/plain": [
       "KNeighborsRegressor(algorithm='auto', leaf_size=3, metric='cityblock',\n",
       "          metric_params=None, n_jobs=1, n_neighbors=11, p=2,\n",
       "          weights='uniform')"
      ]
     },
     "execution_count": 340,
     "metadata": {},
     "output_type": "execute_result"
    }
   ],
   "source": [
    "knn_model.fit(train, y_train)\n"
   ]
  },
  {
   "cell_type": "code",
   "execution_count": 341,
   "metadata": {},
   "outputs": [
    {
     "data": {
      "text/plain": [
       "array([ 116646.67847116,  184273.93793469,  181753.00989151, ...,\n",
       "        172317.82248341,  119392.28846979,  224289.97256677])"
      ]
     },
     "execution_count": 341,
     "metadata": {},
     "output_type": "execute_result"
    }
   ],
   "source": [
    "knn_preds = np.expm1(knn_model.predict(test))\n",
    "knn_preds"
   ]
  },
  {
   "cell_type": "code",
   "execution_count": 342,
   "metadata": {
    "collapsed": true
   },
   "outputs": [],
   "source": [
    "predictions['knnpreds'] = knn_preds"
   ]
  },
  {
   "cell_type": "code",
   "execution_count": 343,
   "metadata": {},
   "outputs": [
    {
     "data": {
      "text/html": [
       "<div>\n",
       "<style>\n",
       "    .dataframe thead tr:only-child th {\n",
       "        text-align: right;\n",
       "    }\n",
       "\n",
       "    .dataframe thead th {\n",
       "        text-align: left;\n",
       "    }\n",
       "\n",
       "    .dataframe tbody tr th {\n",
       "        vertical-align: top;\n",
       "    }\n",
       "</style>\n",
       "<table border=\"1\" class=\"dataframe\">\n",
       "  <thead>\n",
       "    <tr style=\"text-align: right;\">\n",
       "      <th></th>\n",
       "      <th>xgbpreds</th>\n",
       "      <th>lgbpreds</th>\n",
       "      <th>lassopreds</th>\n",
       "      <th>elasticpreds</th>\n",
       "      <th>knnpreds</th>\n",
       "    </tr>\n",
       "  </thead>\n",
       "  <tbody>\n",
       "    <tr>\n",
       "      <th>0</th>\n",
       "      <td>116241.539062</td>\n",
       "      <td>113238.725697</td>\n",
       "      <td>107469.719901</td>\n",
       "      <td>106344.140032</td>\n",
       "      <td>116646.678471</td>\n",
       "    </tr>\n",
       "    <tr>\n",
       "      <th>1</th>\n",
       "      <td>158313.625000</td>\n",
       "      <td>155458.296360</td>\n",
       "      <td>144524.595438</td>\n",
       "      <td>147490.896063</td>\n",
       "      <td>184273.937935</td>\n",
       "    </tr>\n",
       "    <tr>\n",
       "      <th>2</th>\n",
       "      <td>182957.265625</td>\n",
       "      <td>184848.531624</td>\n",
       "      <td>171932.722207</td>\n",
       "      <td>170482.560509</td>\n",
       "      <td>181753.009892</td>\n",
       "    </tr>\n",
       "    <tr>\n",
       "      <th>3</th>\n",
       "      <td>188232.843750</td>\n",
       "      <td>188103.937505</td>\n",
       "      <td>198505.228258</td>\n",
       "      <td>196396.109781</td>\n",
       "      <td>169000.186046</td>\n",
       "    </tr>\n",
       "    <tr>\n",
       "      <th>4</th>\n",
       "      <td>187101.953125</td>\n",
       "      <td>183227.873951</td>\n",
       "      <td>200533.324883</td>\n",
       "      <td>205669.076200</td>\n",
       "      <td>183943.923866</td>\n",
       "    </tr>\n",
       "  </tbody>\n",
       "</table>\n",
       "</div>"
      ],
      "text/plain": [
       "        xgbpreds       lgbpreds     lassopreds   elasticpreds       knnpreds\n",
       "0  116241.539062  113238.725697  107469.719901  106344.140032  116646.678471\n",
       "1  158313.625000  155458.296360  144524.595438  147490.896063  184273.937935\n",
       "2  182957.265625  184848.531624  171932.722207  170482.560509  181753.009892\n",
       "3  188232.843750  188103.937505  198505.228258  196396.109781  169000.186046\n",
       "4  187101.953125  183227.873951  200533.324883  205669.076200  183943.923866"
      ]
     },
     "execution_count": 343,
     "metadata": {},
     "output_type": "execute_result"
    }
   ],
   "source": [
    "predictions.head()"
   ]
  },
  {
   "cell_type": "code",
   "execution_count": 344,
   "metadata": {
    "collapsed": true
   },
   "outputs": [],
   "source": [
    "finalpredictions = predictions.mean(axis=1)"
   ]
  },
  {
   "cell_type": "code",
   "execution_count": 345,
   "metadata": {
    "collapsed": true
   },
   "outputs": [],
   "source": [
    "testpred = predictions['xgbpreds']*0.18 + predictions['lgbpreds']*0.21 + predictions['lassopreds']*0.3 + predictions['knnpreds']*0.00 + predictions['elasticpreds'] * 0.3"
   ]
  },
  {
   "cell_type": "code",
   "execution_count": 156,
   "metadata": {},
   "outputs": [
    {
     "data": {
      "text/plain": [
       "17.5"
      ]
     },
     "execution_count": 156,
     "metadata": {},
     "output_type": "execute_result"
    }
   ],
   "source": [
    "35/2"
   ]
  },
  {
   "cell_type": "code",
   "execution_count": 346,
   "metadata": {
    "collapsed": true
   },
   "outputs": [],
   "source": [
    "submission2 = pd.DataFrame()\n",
    "submission2['Id'] = test_ID\n",
    "submission2[\"SalePrice\"] = testpred\n",
    "submission2.head()\n",
    "submission2.to_csv(\"submission.csv\", index=False)"
   ]
  },
  {
   "cell_type": "code",
   "execution_count": null,
   "metadata": {
    "collapsed": true
   },
   "outputs": [],
   "source": []
  }
 ],
 "metadata": {
  "kernelspec": {
   "display_name": "Python 3",
   "language": "python",
   "name": "python3"
  },
  "language_info": {
   "codemirror_mode": {
    "name": "ipython",
    "version": 3
   },
   "file_extension": ".py",
   "mimetype": "text/x-python",
   "name": "python",
   "nbconvert_exporter": "python",
   "pygments_lexer": "ipython3",
   "version": "3.6.1"
  }
 },
 "nbformat": 4,
 "nbformat_minor": 2
}
